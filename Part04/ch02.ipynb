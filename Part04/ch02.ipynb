{
 "cells": [
  {
   "cell_type": "markdown",
   "metadata": {},
   "source": [
    "# 표본의 평균 검정"
   ]
  },
  {
   "cell_type": "code",
   "execution_count": 1,
   "metadata": {},
   "outputs": [
    {
     "name": "stderr",
     "output_type": "stream",
     "text": [
      "c:\\Users\\kjh\\anaconda3\\lib\\site-packages\\pandas\\core\\computation\\expressions.py:21: UserWarning: Pandas requires version '2.8.4' or newer of 'numexpr' (version '2.7.3' currently installed).\n",
      "  from pandas.core.computation.check import NUMEXPR_INSTALLED\n",
      "c:\\Users\\kjh\\anaconda3\\lib\\site-packages\\pandas\\core\\arrays\\masked.py:60: UserWarning: Pandas requires version '1.3.6' or newer of 'bottleneck' (version '1.3.2' currently installed).\n",
      "  from pandas.core import (\n"
     ]
    }
   ],
   "source": [
    "import pandas as pd\n",
    "import numpy as np\n",
    "from scipy import stats\n",
    "from scipy.stats import norm"
   ]
  },
  {
   "cell_type": "code",
   "execution_count": null,
   "metadata": {},
   "outputs": [
    {
     "name": "stdout",
     "output_type": "stream",
     "text": [
      "표본평균: 27.9\n",
      "검정통계량: -0.01581138830084212\n",
      "임계값: 1.959963984540054\n",
      "p-값: 0.9873848630227964\n",
      "귀무가설 기각X.표본평균이 모집단 평균과 차이가 없을 가능성\n"
     ]
    }
   ],
   "source": [
    "data = np.array([23,25,28,30,26,27,29,32,31,28])\n",
    "\n",
    "# 모평균,모분산\n",
    "population_mean = 28\n",
    "population_var = 4\n",
    "\n",
    "#유의수준 설정\n",
    "alpha = 0.05\n",
    "\n",
    "\n",
    "# 단측,양측 검정 선택\n",
    "alternative = 'two.sided'\n",
    "\n",
    "sample_mean = np.mean(data)\n",
    "\n",
    "# 표본 크기\n",
    "n = len(data)\n",
    "\n",
    "test_statistic = (sample_mean-population_mean) / (np.sqrt(population_var))/(np.sqrt(n))\n",
    "\n",
    "# 임계값 계산 (Z-검정,양측 검정)\n",
    "critical_value = norm.ppf(1-alpha/2)\n",
    "\n",
    "# p값 계산\n",
    "p_value = 2 * (1-norm.cdf(abs(test_statistic)))\n",
    "\n",
    "\n",
    "# 결과출력\n",
    "print('표본평균:',sample_mean)\n",
    "print('검정통계량:',test_statistic)\n",
    "print('임계값:',critical_value)\n",
    "print('p-값:',p_value)\n",
    "\n",
    "# 결과해석\n",
    "if abs(test_statistic) > critical_value:\n",
    "    print('귀무가설을 기각.표본평균이 모집단 평균과 다름')\n",
    "else:\n",
    "    print('귀무가설 기각X.표본평균이 모집단 평균과 차이가 없을 가능성')"
   ]
  },
  {
   "cell_type": "markdown",
   "metadata": {},
   "source": [
    "## 단일표본 평균 검정"
   ]
  },
  {
   "cell_type": "code",
   "execution_count": 3,
   "metadata": {},
   "outputs": [
    {
     "name": "stdout",
     "output_type": "stream",
     "text": [
      "t-통계량: 31.887160448233363\n",
      "p-값: 1.4410218033665443e-10\n",
      "95% 신뢰구간: (25.92070225277866, 29.879297747221337)\n",
      "귀무가설 기각. 표본평균이 모집단 평균과 다름\n"
     ]
    }
   ],
   "source": [
    "# T-Test, 신뢰구간\n",
    "\n",
    "import numpy as np\n",
    "from scipy import stats\n",
    "\n",
    "data = np.array([23,25,28,30,26,27,29,32,31,28])\n",
    "\n",
    "alpha = 0.05\n",
    "\n",
    "alternative = 'two-sided'\n",
    "\n",
    "t_statistic,p_value = stats.ttest_1samp(data,popmean = 0,alternative = alternative)\n",
    "\n",
    "# 95% 신뢰구간\n",
    "confidence_interval = stats.t.interval(1-alpha,len(data)-1,loc = np.mean(data),scale = stats.sem(data))\n",
    "\n",
    "# 결과출력\n",
    "print('t-통계량:',t_statistic)\n",
    "print('p-값:',p_value)\n",
    "print('95% 신뢰구간:',confidence_interval)\n",
    "\n",
    "\n",
    "# 결과 해석\n",
    "if p_value < alpha:\n",
    "    print('귀무가설 기각. 표본평균이 모집단 평균과 다름')\n",
    "else:\n",
    "    print('귀무가설을 기각X. 표본평균이 모집단 평균과 차이가 없을 가능성')"
   ]
  },
  {
   "cell_type": "code",
   "execution_count": 4,
   "metadata": {},
   "outputs": [
    {
     "name": "stdout",
     "output_type": "stream",
     "text": [
      "mpg의 평균: 20.0906\n",
      "mpg의 표본분산: 36.3241\n",
      "단일표본 t-검정 결과:\n",
      "t-통계량: 0.08506003568133688\n",
      "p-값: 0.9327606409093872\n",
      "mpg 평균의 95% 신뢰구간: 17.9177 - 22.2636\n"
     ]
    }
   ],
   "source": [
    "# 실제 데이터 가지고 수행\n",
    "\n",
    "import pandas as pd\n",
    "import numpy as np\n",
    "from scipy import stats\n",
    "\n",
    "mtcars = pd.read_csv('https://raw.githubusercontent.com/YoungjinBD/dataset/main/mtcars.csv')\n",
    "\n",
    "# mpg 열의 표본평균 계산 및 반올림 \n",
    "mpg_mean = round(np.mean(mtcars['mpg']),4)\n",
    "print('mpg의 평균:',mpg_mean)\n",
    "\n",
    "\n",
    "# mpg 열의 표본분산 계산 및 반올림\n",
    "mpg_var = round(np.var(mtcars['mpg'],ddof = 1),4)\n",
    "print('mpg의 표본분산:',mpg_var)\n",
    "\n",
    "# 단일표본 t-검정 수행,mpg열의 평균이 20인지 검정\n",
    "t_stat,p_value = stats.ttest_1samp(mtcars['mpg'],20)\n",
    "print('단일표본 t-검정 결과:')\n",
    "print('t-통계량:',t_stat)\n",
    "print('p-값:',p_value)\n",
    "\n",
    "# mpg 평균의 95% 신뢰구간 계산 및 출력\n",
    "conf_interval = stats.t.interval(0.95,len(mtcars['mpg'])-1,loc = np.mean(mtcars['mpg']),scale = stats.sem(mtcars['mpg']))\n",
    "print('mpg 평균의 95% 신뢰구간:', round(conf_interval[0],4),\"-\",round(conf_interval[1],4))"
   ]
  },
  {
   "cell_type": "markdown",
   "metadata": {},
   "source": [
    "## 두 독립표본 평균,중앙값 차이 검정"
   ]
  },
  {
   "cell_type": "code",
   "execution_count": 5,
   "metadata": {},
   "outputs": [
    {
     "name": "stdout",
     "output_type": "stream",
     "text": [
      "t-검정통계량: 1.5778641172210597\n",
      "Sample1 평균: 27.6\n",
      "Sample2 평균: 23.8\n",
      "p-값 (two-tailed): 0.15324889402868613\n",
      "두 그룹의 평균은 유의미하게 다르지 않음\n"
     ]
    }
   ],
   "source": [
    "import scipy.stats as stats\n",
    "import numpy as np\n",
    "\n",
    "sample1 = [23,25,28,30,32]\n",
    "sample2 = [19,21,24,26,29]\n",
    "\n",
    "t_statistic,p_value = stats.ttest_ind(sample1,sample2)\n",
    "\n",
    "# 각 샘플 평균\n",
    "mean_sample1 = np.mean(sample1)\n",
    "mean_sample2 = np.mean(sample2)\n",
    "\n",
    "# 결과 출력\n",
    "alpha = 0.05\n",
    "print('t-검정통계량:',t_statistic)\n",
    "print('Sample1 평균:', mean_sample1)\n",
    "print('Sample2 평균:', mean_sample2)\n",
    "print('p-값 (two-tailed):', p_value)\n",
    "if p_value<alpha:\n",
    "    print('두 그룹의 평균은 유의미하게 다름')\n",
    "else:\n",
    "    print('두 그룹의 평균은 유의미하게 다르지 않음')"
   ]
  },
  {
   "cell_type": "code",
   "execution_count": 6,
   "metadata": {},
   "outputs": [
    {
     "name": "stdout",
     "output_type": "stream",
     "text": [
      "Mann-Whitney U 통계량: 19.0\n",
      "Sample 1 평균: 27.6\n",
      "Sample 2 평균: 23.8\n",
      "p-값 (two-tailed): 0.2222222222222222\n",
      "두 그룹의 중앙값은 유의미하게 다르지 않음\n"
     ]
    }
   ],
   "source": [
    "# 비모수 방식\n",
    "\n",
    "import scipy.stats as stats\n",
    "import numpy as np\n",
    "\n",
    "sample1 = [23,25,28,30,32]\n",
    "sample2 = [19,21,24,26,29]\n",
    "\n",
    "u_statistic,p_value = stats.mannwhitneyu(sample1,sample2)\n",
    "\n",
    "mean_sample1 = np.mean(sample1)\n",
    "mean_sample2 = np.mean(sample2)\n",
    "\n",
    "\n",
    "alpha = 0.05\n",
    "print('Mann-Whitney U 통계량:', u_statistic)\n",
    "print('Sample 1 평균:',mean_sample1)\n",
    "print('Sample 2 평균:',mean_sample2)\n",
    "print('p-값 (two-tailed):',p_value)\n",
    "\n",
    "if p_value<alpha:\n",
    "    print('두 그룹의 중앙값은 유의미하게 다름')\n",
    "else:\n",
    "    print('두 그룹의 중앙값은 유의미하게 다르지 않음')"
   ]
  },
  {
   "cell_type": "markdown",
   "metadata": {},
   "source": [
    "## 정규성 검정"
   ]
  },
  {
   "cell_type": "code",
   "execution_count": null,
   "metadata": {},
   "outputs": [],
   "source": []
  }
 ],
 "metadata": {
  "kernelspec": {
   "display_name": "base",
   "language": "python",
   "name": "python3"
  },
  "language_info": {
   "codemirror_mode": {
    "name": "ipython",
    "version": 3
   },
   "file_extension": ".py",
   "mimetype": "text/x-python",
   "name": "python",
   "nbconvert_exporter": "python",
   "pygments_lexer": "ipython3",
   "version": "3.9.18"
  }
 },
 "nbformat": 4,
 "nbformat_minor": 2
}
