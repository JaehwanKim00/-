{
 "cells": [
  {
   "cell_type": "markdown",
   "metadata": {},
   "source": [
    "# 표본의 평균 검정"
   ]
  },
  {
   "cell_type": "code",
   "execution_count": 1,
   "metadata": {},
   "outputs": [
    {
     "name": "stderr",
     "output_type": "stream",
     "text": [
      "c:\\Users\\kjh\\anaconda3\\lib\\site-packages\\pandas\\core\\computation\\expressions.py:21: UserWarning: Pandas requires version '2.8.4' or newer of 'numexpr' (version '2.7.3' currently installed).\n",
      "  from pandas.core.computation.check import NUMEXPR_INSTALLED\n",
      "c:\\Users\\kjh\\anaconda3\\lib\\site-packages\\pandas\\core\\arrays\\masked.py:60: UserWarning: Pandas requires version '1.3.6' or newer of 'bottleneck' (version '1.3.2' currently installed).\n",
      "  from pandas.core import (\n"
     ]
    }
   ],
   "source": [
    "import pandas as pd\n",
    "import numpy as np\n",
    "from scipy import stats\n",
    "from scipy.stats import norm"
   ]
  },
  {
   "cell_type": "code",
   "execution_count": null,
   "metadata": {},
   "outputs": [
    {
     "name": "stdout",
     "output_type": "stream",
     "text": [
      "표본평균: 27.9\n",
      "검정통계량: -0.01581138830084212\n",
      "임계값: 1.959963984540054\n",
      "p-값: 0.9873848630227964\n",
      "귀무가설 기각X.표본평균이 모집단 평균과 차이가 없을 가능성\n"
     ]
    }
   ],
   "source": [
    "data = np.array([23,25,28,30,26,27,29,32,31,28])\n",
    "\n",
    "# 모평균,모분산\n",
    "population_mean = 28\n",
    "population_var = 4\n",
    "\n",
    "#유의수준 설정\n",
    "alpha = 0.05\n",
    "\n",
    "\n",
    "# 단측,양측 검정 선택\n",
    "alternative = 'two.sided'\n",
    "\n",
    "sample_mean = np.mean(data)\n",
    "\n",
    "# 표본 크기\n",
    "n = len(data)\n",
    "\n",
    "test_statistic = (sample_mean-population_mean) / (np.sqrt(population_var))/(np.sqrt(n))\n",
    "\n",
    "# 임계값 계산 (Z-검정,양측 검정)\n",
    "critical_value = norm.ppf(1-alpha/2)\n",
    "\n",
    "# p값 계산\n",
    "p_value = 2 * (1-norm.cdf(abs(test_statistic)))\n",
    "\n",
    "\n",
    "# 결과출력\n",
    "print('표본평균:',sample_mean)\n",
    "print('검정통계량:',test_statistic)\n",
    "print('임계값:',critical_value)\n",
    "print('p-값:',p_value)\n",
    "\n",
    "# 결과해석\n",
    "if abs(test_statistic) > critical_value:\n",
    "    print('귀무가설을 기각.표본평균이 모집단 평균과 다름')\n",
    "else:\n",
    "    print('귀무가설 기각X.표본평균이 모집단 평균과 차이가 없을 가능성')"
   ]
  },
  {
   "cell_type": "markdown",
   "metadata": {},
   "source": [
    "## 단일표본 평균 검정"
   ]
  },
  {
   "cell_type": "code",
   "execution_count": 3,
   "metadata": {},
   "outputs": [
    {
     "name": "stdout",
     "output_type": "stream",
     "text": [
      "t-통계량: 31.887160448233363\n",
      "p-값: 1.4410218033665443e-10\n",
      "95% 신뢰구간: (25.92070225277866, 29.879297747221337)\n",
      "귀무가설 기각. 표본평균이 모집단 평균과 다름\n"
     ]
    }
   ],
   "source": [
    "# T-Test, 신뢰구간\n",
    "\n",
    "import numpy as np\n",
    "from scipy import stats\n",
    "\n",
    "data = np.array([23,25,28,30,26,27,29,32,31,28])\n",
    "\n",
    "alpha = 0.05\n",
    "\n",
    "alternative = 'two-sided'\n",
    "\n",
    "t_statistic,p_value = stats.ttest_1samp(data,popmean = 0,alternative = alternative)\n",
    "\n",
    "# 95% 신뢰구간\n",
    "confidence_interval = stats.t.interval(1-alpha,len(data)-1,loc = np.mean(data),scale = stats.sem(data))\n",
    "\n",
    "# 결과출력\n",
    "print('t-통계량:',t_statistic)\n",
    "print('p-값:',p_value)\n",
    "print('95% 신뢰구간:',confidence_interval)\n",
    "\n",
    "\n",
    "# 결과 해석\n",
    "if p_value < alpha:\n",
    "    print('귀무가설 기각. 표본평균이 모집단 평균과 다름')\n",
    "else:\n",
    "    print('귀무가설을 기각X. 표본평균이 모집단 평균과 차이가 없을 가능성')"
   ]
  },
  {
   "cell_type": "code",
   "execution_count": 4,
   "metadata": {},
   "outputs": [
    {
     "name": "stdout",
     "output_type": "stream",
     "text": [
      "mpg의 평균: 20.0906\n",
      "mpg의 표본분산: 36.3241\n",
      "단일표본 t-검정 결과:\n",
      "t-통계량: 0.08506003568133688\n",
      "p-값: 0.9327606409093872\n",
      "mpg 평균의 95% 신뢰구간: 17.9177 - 22.2636\n"
     ]
    }
   ],
   "source": [
    "# 실제 데이터 가지고 수행\n",
    "\n",
    "import pandas as pd\n",
    "import numpy as np\n",
    "from scipy import stats\n",
    "\n",
    "mtcars = pd.read_csv('https://raw.githubusercontent.com/YoungjinBD/dataset/main/mtcars.csv')\n",
    "\n",
    "# mpg 열의 표본평균 계산 및 반올림 \n",
    "mpg_mean = round(np.mean(mtcars['mpg']),4)\n",
    "print('mpg의 평균:',mpg_mean)\n",
    "\n",
    "\n",
    "# mpg 열의 표본분산 계산 및 반올림\n",
    "mpg_var = round(np.var(mtcars['mpg'],ddof = 1),4)\n",
    "print('mpg의 표본분산:',mpg_var)\n",
    "\n",
    "# 단일표본 t-검정 수행,mpg열의 평균이 20인지 검정\n",
    "t_stat,p_value = stats.ttest_1samp(mtcars['mpg'],20)\n",
    "print('단일표본 t-검정 결과:')\n",
    "print('t-통계량:',t_stat)\n",
    "print('p-값:',p_value)\n",
    "\n",
    "# mpg 평균의 95% 신뢰구간 계산 및 출력\n",
    "conf_interval = stats.t.interval(0.95,len(mtcars['mpg'])-1,loc = np.mean(mtcars['mpg']),scale = stats.sem(mtcars['mpg']))\n",
    "print('mpg 평균의 95% 신뢰구간:', round(conf_interval[0],4),\"-\",round(conf_interval[1],4))"
   ]
  },
  {
   "cell_type": "markdown",
   "metadata": {},
   "source": [
    "## 두 독립표본 평균,중앙값 차이 검정"
   ]
  },
  {
   "cell_type": "code",
   "execution_count": 5,
   "metadata": {},
   "outputs": [
    {
     "name": "stdout",
     "output_type": "stream",
     "text": [
      "t-검정통계량: 1.5778641172210597\n",
      "Sample1 평균: 27.6\n",
      "Sample2 평균: 23.8\n",
      "p-값 (two-tailed): 0.15324889402868613\n",
      "두 그룹의 평균은 유의미하게 다르지 않음\n"
     ]
    }
   ],
   "source": [
    "import scipy.stats as stats\n",
    "import numpy as np\n",
    "\n",
    "sample1 = [23,25,28,30,32]\n",
    "sample2 = [19,21,24,26,29]\n",
    "\n",
    "t_statistic,p_value = stats.ttest_ind(sample1,sample2)\n",
    "\n",
    "# 각 샘플 평균\n",
    "mean_sample1 = np.mean(sample1)\n",
    "mean_sample2 = np.mean(sample2)\n",
    "\n",
    "# 결과 출력\n",
    "alpha = 0.05\n",
    "print('t-검정통계량:',t_statistic)\n",
    "print('Sample1 평균:', mean_sample1)\n",
    "print('Sample2 평균:', mean_sample2)\n",
    "print('p-값 (two-tailed):', p_value)\n",
    "if p_value<alpha:\n",
    "    print('두 그룹의 평균은 유의미하게 다름')\n",
    "else:\n",
    "    print('두 그룹의 평균은 유의미하게 다르지 않음')"
   ]
  },
  {
   "cell_type": "code",
   "execution_count": 6,
   "metadata": {},
   "outputs": [
    {
     "name": "stdout",
     "output_type": "stream",
     "text": [
      "Mann-Whitney U 통계량: 19.0\n",
      "Sample 1 평균: 27.6\n",
      "Sample 2 평균: 23.8\n",
      "p-값 (two-tailed): 0.2222222222222222\n",
      "두 그룹의 중앙값은 유의미하게 다르지 않음\n"
     ]
    }
   ],
   "source": [
    "# 비모수 방식\n",
    "\n",
    "import scipy.stats as stats\n",
    "import numpy as np\n",
    "\n",
    "sample1 = [23,25,28,30,32]\n",
    "sample2 = [19,21,24,26,29]\n",
    "\n",
    "u_statistic,p_value = stats.mannwhitneyu(sample1,sample2)\n",
    "\n",
    "mean_sample1 = np.mean(sample1)\n",
    "mean_sample2 = np.mean(sample2)\n",
    "\n",
    "\n",
    "alpha = 0.05\n",
    "print('Mann-Whitney U 통계량:', u_statistic)\n",
    "print('Sample 1 평균:',mean_sample1)\n",
    "print('Sample 2 평균:',mean_sample2)\n",
    "print('p-값 (two-tailed):',p_value)\n",
    "\n",
    "if p_value<alpha:\n",
    "    print('두 그룹의 중앙값은 유의미하게 다름')\n",
    "else:\n",
    "    print('두 그룹의 중앙값은 유의미하게 다르지 않음')"
   ]
  },
  {
   "cell_type": "markdown",
   "metadata": {},
   "source": [
    "## 정규성 검정"
   ]
  },
  {
   "cell_type": "code",
   "execution_count": 2,
   "metadata": {},
   "outputs": [
    {
     "name": "stdout",
     "output_type": "stream",
     "text": [
      "Shapiro-wilk 테스트 통계량: 0.9553363919258118\n",
      "p-값: 0.7484778761863708\n",
      "귀무가설 기각X, 데이터는 정규분포 따를 가능성 높음\n"
     ]
    }
   ],
   "source": [
    "from scipy  import stats\n",
    "\n",
    "data = [2.4,2.7,3.1,3.2,3.5,3.7,3.9,4.1,4.2]\n",
    "\n",
    "statistic,p_value = stats.shapiro(data)\n",
    "\n",
    "alpha = 0.05\n",
    "print('Shapiro-wilk 테스트 통계량:',statistic)\n",
    "print('p-값:',p_value)\n",
    "\n",
    "if p_value > alpha:\n",
    "    print('귀무가설 기각X, 데이터는 정규분포 따를 가능성 높음')\n",
    "else:\n",
    "    print('귀무가설 기각O, 데이터는 정규분포를 따를 가능성 낮음')"
   ]
  },
  {
   "cell_type": "code",
   "execution_count": 4,
   "metadata": {},
   "outputs": [
    {
     "name": "stdout",
     "output_type": "stream",
     "text": [
      "남자 데이터 평균: 100.0\n",
      "여자 데이터 평균: 108.0\n",
      "\n",
      "남자 데이터 Shapiro-Wilk 테스트 통계량: 0.932635486125946\n",
      "남자 데이터 p-값: 0.17352384328842163\n",
      "남자 데이터는 정규분포를 따를 가능성이 높음\n",
      "\n",
      "여자 데이터는 Shapiro-Wilk 테스트 통계량: 0.9615268111228943\n",
      "여자 데이터 p-값: 0.5747838020324707\n",
      "여자 데이터는 정규분포를 따를 가능성이 높음\n"
     ]
    }
   ],
   "source": [
    "from scipy import stats\n",
    "dat_M = [117,108,105,89,101,93,96,108,108,94,93,112,92,91,100,96,120,86,96,95]\n",
    "dat_F = [121,101,102,114,103,105,101,131,96,109,109,113,115,94,108,96,110,112,120,100]\n",
    "\n",
    "mean_M = sum(dat_M) / len(dat_M)\n",
    "mean_F = sum(dat_F) / len(dat_F)\n",
    "print('남자 데이터 평균:', mean_M)\n",
    "print('여자 데이터 평균:', mean_F)\n",
    "\n",
    "statistic_M,p_value_M = stats.shapiro(dat_M)\n",
    "statistic_F,p_value_F = stats.shapiro(dat_F)\n",
    "\n",
    "print('\\n남자 데이터 Shapiro-Wilk 테스트 통계량:',statistic_M)\n",
    "print('남자 데이터 p-값:',p_value_M)\n",
    "\n",
    "if p_value_M > 0.05:\n",
    "    print(\"남자 데이터는 정규분포를 따를 가능성이 높음\")\n",
    "else:\n",
    "    print('남자 데이터는 정규분포를 따를 가능성이 낮음')\n",
    "\n",
    "print('\\n여자 데이터는 Shapiro-Wilk 테스트 통계량:',statistic_F)\n",
    "print('여자 데이터 p-값:',p_value_F)\n",
    "if p_value_F > 0.05:\n",
    "    print('여자 데이터는 정규분포를 따를 가능성이 높음')\n",
    "else:\n",
    "    print('여자 데이터는 정규분포를 따를 가능성이 낮음')"
   ]
  },
  {
   "cell_type": "code",
   "execution_count": 5,
   "metadata": {},
   "outputs": [
    {
     "name": "stdout",
     "output_type": "stream",
     "text": [
      "t-검정통계량: -2.670573872669349\n",
      "p-값: 0.011082895240510137\n",
      "두 표본 간에는 유의한 평균 차이가 있음(귀무가설 기각)\n"
     ]
    }
   ],
   "source": [
    "## 남자 평균 여자 평균 검정 t-검정\n",
    "from scipy import stats\n",
    "t_statistic,p_value = stats.ttest_ind(dat_M,dat_F)\n",
    "\n",
    "print('t-검정통계량:',t_statistic)\n",
    "print('p-값:',p_value)\n",
    "\n",
    "alpha = 0.05\n",
    "\n",
    "if p_value < alpha:\n",
    "    print('두 표본 간에는 유의한 평균 차이가 있음(귀무가설 기각)')\n",
    "else:\n",
    "    print('두 표본 간에는 유의한 평균 차이가 없음(귀무가설 채택)')\n",
    "    "
   ]
  },
  {
   "cell_type": "markdown",
   "metadata": {},
   "source": [
    "## 대응표본"
   ]
  },
  {
   "cell_type": "code",
   "execution_count": 10,
   "metadata": {},
   "outputs": [
    {
     "name": "stdout",
     "output_type": "stream",
     "text": [
      "대응표본 t-검정 결과:\n",
      "t-통계량 : -8.25674954467424\n",
      "p-값 : 0.0011738040715128372\n"
     ]
    }
   ],
   "source": [
    "from scipy import stats\n",
    "data_before = [72,75,68,71,73]\n",
    "data_after = [76,79,74,78,80]\n",
    "\n",
    "t_statistic,p_value = stats.ttest_rel(data_before,data_after)\n",
    "\n",
    "print('대응표본 t-검정 결과:')\n",
    "print(f't-통계량 : {t_statistic}')\n",
    "print(f'p-값 : {p_value}')\n"
   ]
  },
  {
   "cell_type": "code",
   "execution_count": 11,
   "metadata": {},
   "outputs": [
    {
     "name": "stdout",
     "output_type": "stream",
     "text": [
      "before 데이터의 정규성 검정:\n",
      "p-값: 0.835266649723053\n",
      "before 데이터는 정규분포를 따릅니다\n",
      "after 데이터의 정규성 검정:\n",
      "p-값: 0.6177965998649597\n",
      "after 데이터는 정규분포를 따릅니다\n"
     ]
    }
   ],
   "source": [
    "from scipy import stats\n",
    "\n",
    "before = [7,3,4,5,2,1,6,6,5,4]\n",
    "after = [8,4,5,6,2,3,6,8,6,5]\n",
    "\n",
    "# 샤피로 윌크 검정 수행\n",
    "_,p_value_before = stats.shapiro(before)\n",
    "_,p_value_after = stats.shapiro(after)\n",
    "\n",
    "\n",
    "# 결과출력\n",
    "print('before 데이터의 정규성 검정:')\n",
    "if p_value_before > 0.05:\n",
    "    print('p-값:',p_value_before)\n",
    "    print('before 데이터는 정규분포를 따릅니다')\n",
    "else:\n",
    "    print('p-값:',p_value_before)\n",
    "    print('before 데이터는 정규분포를 따르지 않습니다')\n",
    "\n",
    "print('after 데이터의 정규성 검정:')\n",
    "if p_value_after > 0.05:\n",
    "    print('p-값:',p_value_after)\n",
    "    print('after 데이터는 정규분포를 따릅니다')\n",
    "else:\n",
    "    print('p-값:',p_value_after)\n",
    "    print('after 데이터는 정규분포를 따르지 않습니다')\n",
    "    "
   ]
  },
  {
   "cell_type": "code",
   "execution_count": 15,
   "metadata": {},
   "outputs": [
    {
     "name": "stdout",
     "output_type": "stream",
     "text": [
      "대응 표본 t-검정 결과:\n",
      "t-통계량(t-statistic): -4.743416490252569\n",
      "p-값(p_value): 0.001053871257016553\n",
      "p-값이 유의수준보다 작으므로 귀무가설을 기각\n",
      "수면유도제를 복용하기 전과 후의 평균시간 차이는 0보다 작음\n"
     ]
    }
   ],
   "source": [
    "# 대응표본 검정\n",
    "import numpy as np\n",
    "from scipy import stats\n",
    "\n",
    "before = np.array([7,3,4,5,2,1,6,6,5,4])\n",
    "after = np.array([8,4,5,6,2,3,6,8,6,5])\n",
    "\n",
    "D = before-after # 이거 하려면 array 형태\n",
    "\n",
    "t_statistic,p_value = stats.ttest_rel(before,after)\n",
    "\n",
    "\n",
    "print('대응 표본 t-검정 결과:')\n",
    "print(f't-통계량(t-statistic): {t_statistic}')\n",
    "print(f'p-값(p_value): {p_value}')\n",
    "\n",
    "alpha = 0.05\n",
    "\n",
    "if p_value < alpha:\n",
    "    print('p-값이 유의수준보다 작으므로 귀무가설을 기각')\n",
    "    print('수면유도제를 복용하기 전과 후의 평균시간 차이는 0보다 작음')\n",
    "else:\n",
    "    print('p-값이 유의수준보다 크므로 귀무가설을 기각하지 않음')\n",
    "    print('수면유도제를 복용하기 전과 후의 평균 수면시간에는 차이가 없음')\n"
   ]
  },
  {
   "cell_type": "markdown",
   "metadata": {},
   "source": [
    "## 단일표본 모분산 검정"
   ]
  },
  {
   "cell_type": "code",
   "execution_count": 17,
   "metadata": {},
   "outputs": [
    {
     "name": "stdout",
     "output_type": "stream",
     "text": [
      "Chi-Square Statistic: 0.9800000000000009\n",
      "p-value: 0.9951447440742881\n",
      "귀무가설을 기각X. 모분산은 1과 같을 가능성이 있음 \n"
     ]
    }
   ],
   "source": [
    "import numpy as np\n",
    "from scipy.stats import chi2\n",
    "\n",
    "\n",
    "data = np.array([14.2,15.1,14.8,15.4,14.9,15.2,14.6,15.0])\n",
    "\n",
    "\n",
    "# 가설 설정\n",
    "# H0 : 모분산은 1과 같다\n",
    "# H1 : 모분산은 1과 다르다\n",
    "\n",
    "population_var = 1.0\n",
    "\n",
    "sample_var= np.var(data,ddof = 1)\n",
    "n = len(data)\n",
    "chi2_stat = (n-1) * sample_var / population_var\n",
    "\n",
    "degrees_of_freedom  = n-1\n",
    "\n",
    "# p-값 계산\n",
    "p_value = 1-chi2.cdf(chi2_stat,degrees_of_freedom)\n",
    "\n",
    "print('Chi-Square Statistic:', chi2_stat)\n",
    "print('p-value:',p_value)\n",
    "\n",
    "# 유의수준 0.05로 가설 설정\n",
    "alpha = 0.05\n",
    "if p_value < alpha:\n",
    "    print('귀무가설을 기각. 모분산은 1과 다름')\n",
    "else:\n",
    "    print('귀무가설을 기각X. 모분산은 1과 같을 가능성이 있음 ')"
   ]
  },
  {
   "cell_type": "markdown",
   "metadata": {},
   "source": [
    "## 두 모분산 비에 대한 가설 검정"
   ]
  },
  {
   "cell_type": "code",
   "execution_count": 18,
   "metadata": {},
   "outputs": [
    {
     "name": "stdout",
     "output_type": "stream",
     "text": [
      "[ 2.82873879  6.99469089  5.565957    1.98741057  3.8427995   8.30287307\n",
      "  0.14664151  4.14217474  7.53187252  3.2665192   3.6422277   4.81058206\n",
      "  7.98277925  3.72219601  4.11203608  4.13129745  9.41186017  9.37357218\n",
      "  7.0081078   5.7723728   6.47473715  7.98146406  3.12833226  7.35165809\n",
      "  2.49223866  3.724497    6.81421039  2.1426386   4.71986256  3.27649021\n",
      "  4.48876126 -0.59717821  1.45693379  3.60024553  6.85492486  4.65272863\n",
      "  5.00569183  6.37644542  3.24092731  5.56725465  3.38926696  1.54466101\n",
      "  4.21820041  6.14761172  5.6771781   4.97633901  9.78473053  5.82582432\n",
      "  6.95747201  9.47628668]\n",
      "[ 1.11774403  1.88363537 10.23113668  2.60581179  5.08904969  8.20794791\n",
      "  7.67211917 10.26465855  9.48693241  8.20817801  2.68187386  7.384588\n",
      "  5.94281598  1.02120362  9.25189714  7.4217096   5.13647024  4.30072382\n",
      "  1.40509657  5.59857222  6.40531736  2.50653505  8.48661215  1.70839086\n",
      " -1.36930105  8.11918127  3.78990189  4.62191124  2.48744983  0.18211172\n",
      "  8.76571212  2.93339305  9.98285746  7.42192456  4.05572556  1.7422928\n",
      "  2.80261404  1.36243061 11.26134008  5.49332369  8.45061663  1.19794385\n",
      "  5.54310539  8.53358582  3.99496771  8.09334338  1.74629626  0.90958537\n",
      "  6.13820184  3.8624707 ]\n"
     ]
    }
   ],
   "source": [
    "import numpy as np\n",
    "np.random.seed(123)\n",
    "sample1  = np.random.normal(loc = 5,scale=2,size = 50)\n",
    "sample2 = np.random.normal(loc= 5, scale = 3,size = 50)\n",
    "print(sample1)\n",
    "print(sample2)"
   ]
  },
  {
   "cell_type": "code",
   "execution_count": 19,
   "metadata": {},
   "outputs": [
    {
     "name": "stdout",
     "output_type": "stream",
     "text": [
      "표본 1의 분산: 5.7763\n",
      "표본 2의 분산: 10.3800\n",
      "F-통계량: 0.5565\n",
      "p-value: 0.9787 >=0.05, 귀무가설을 기각X. 두 표본의 모분산은 같을 수 있음\n"
     ]
    }
   ],
   "source": [
    "from scipy import stats\n",
    "\n",
    "# 두 표본의 분산계산\n",
    "variance_sample1 = np.var(sample1,ddof = 1)\n",
    "variance_sample2 = np.var(sample2,ddof = 1)\n",
    "\n",
    "# F-검정 실행\n",
    "f_statistic = variance_sample1 / variance_sample2\n",
    "df1 = len(sample1) - 1\n",
    "df2 = len(sample2) - 1\n",
    "p_value = 1 - stats.f.cdf(f_statistic,df1,df2)\n",
    "\n",
    "print(f'표본 1의 분산: {variance_sample1:.4f}')\n",
    "print(f'표본 2의 분산: {variance_sample2:.4f}')\n",
    "print(f'F-통계량: {f_statistic:.4f}')\n",
    "\n",
    "alpha = 0.05\n",
    "\n",
    "if p_value < alpha:\n",
    "    print(f'p-value: {p_value:.4f} < {alpha}, 귀무가설을 기각. 두 표본의 모분산은 다름')\n",
    "else:\n",
    "    print(f'p-value: {p_value:.4f} >={alpha}, 귀무가설을 기각X. 두 표본의 모분산은 같을 수 있음' )\n",
    "\n",
    "    "
   ]
  },
  {
   "cell_type": "markdown",
   "metadata": {},
   "source": [
    "## 독립성 검정"
   ]
  },
  {
   "cell_type": "code",
   "execution_count": 22,
   "metadata": {},
   "outputs": [
    {
     "name": "stdout",
     "output_type": "stream",
     "text": [
      "Chi-square statistic: 134.7511341579557\n",
      "p-value: 5.117490956087995e-29\n",
      "Degress of freedom: 3\n",
      "Expected Frequencies table:\n",
      "expected\n"
     ]
    }
   ],
   "source": [
    "import numpy as np\n",
    "from scipy.stats import chi2_contingency\n",
    "\n",
    "data_matrix = np.array([[50,75,125,175],[90,30,45,10]])\n",
    "\n",
    "chi2,p,df,expected = chi2_contingency(data_matrix)\n",
    "\n",
    "\n",
    "print('Chi-square statistic:',chi2)\n",
    "print('p-value:',p)\n",
    "print('Degress of freedom:',df)\n",
    "print('Expected Frequencies table:')\n",
    "print('expected')"
   ]
  },
  {
   "cell_type": "code",
   "execution_count": 25,
   "metadata": {},
   "outputs": [
    {
     "name": "stdout",
     "output_type": "stream",
     "text": [
      "카이제곱 통계량: 260.71702016732104\n",
      "p-value: 0.9786532588205226\n",
      "자유도(df): 1\n",
      "기대값(Expected Frequencies):\n",
      "[[193.47474747 120.52525253]\n",
      " [355.52525253 221.47474747]]\n"
     ]
    }
   ],
   "source": [
    "import pandas as pd\n",
    "import numpy as np\n",
    "from scipy.stats import chi2_contingency\n",
    "\n",
    "titanic_data = pd.read_csv('https://raw.githubusercontent.com/YoungjinBD/dataset/main/titanic.csv')\n",
    "\n",
    "cross_table = pd.crosstab(titanic_data['Sex'],titanic_data['Survived'])\n",
    "\n",
    "chi2,p,df,expected = chi2_contingency(cross_table)\n",
    "\n",
    "print('카이제곱 통계량:',chi2)\n",
    "print('p-value:',p_value)\n",
    "print('자유도(df):',df)\n",
    "print('기대값(Expected Frequencies):')\n",
    "print(expected)"
   ]
  },
  {
   "cell_type": "code",
   "execution_count": 27,
   "metadata": {},
   "outputs": [
    {
     "name": "stdout",
     "output_type": "stream",
     "text": [
      "           Age AgeGroup\n",
      "0    22.000000      20대\n",
      "1    38.000000      30대\n",
      "2    26.000000      20대\n",
      "3    35.000000      30대\n",
      "4    35.000000      30대\n",
      "..         ...      ...\n",
      "886  27.000000      20대\n",
      "887  19.000000      10대\n",
      "888  29.699118      20대\n",
      "889  26.000000      20대\n",
      "890  32.000000      30대\n",
      "\n",
      "[891 rows x 2 columns]\n"
     ]
    }
   ],
   "source": [
    "def categorize_age(age):\n",
    "    if age < 20:\n",
    "        return '10대'\n",
    "    elif age < 30:\n",
    "        return '20대'\n",
    "    elif age < 40:\n",
    "        return '30대'\n",
    "    elif age < 50:\n",
    "        return '40대'\n",
    "    elif age < 60:\n",
    "        return '50대'\n",
    "    else:\n",
    "        return '60대 이상'\n",
    "    \n",
    "average_age = titanic_data['Age'].mean()\n",
    "titanic_data['Age'] = titanic_data['Age'].apply(lambda x:average_age if np.isnan(x) else x)\n",
    "\n",
    "\n",
    "titanic_data['AgeGroup'] = titanic_data['Age'].apply(categorize_age)\n",
    "\n",
    "print(titanic_data[['Age','AgeGroup']])"
   ]
  },
  {
   "cell_type": "code",
   "execution_count": 35,
   "metadata": {},
   "outputs": [
    {
     "name": "stdout",
     "output_type": "stream",
     "text": [
      "카이제곱 통계량: 16.134525241016338\n",
      "p-value: 0.006470311249228111\n",
      "자유도(df): 5\n",
      "기대값(Expected Frequencies):\n",
      "[[101.05050505  62.94949495]\n",
      " [244.61616162 152.38383838]\n",
      " [102.8989899   64.1010101 ]\n",
      " [ 54.83838384  34.16161616]\n",
      " [ 29.57575758  18.42424242]\n",
      " [ 16.02020202   9.97979798]]\n"
     ]
    }
   ],
   "source": [
    "cross_table = pd.crosstab(titanic_data['AgeGroup'],titanic_data['Survived'])\n",
    "\n",
    "\n",
    "chi2,p,df,expected = chi2_contingency(cross_table)\n",
    "\n",
    "print('카이제곱 통계량:',chi2)\n",
    "print('p-value:',p)\n",
    "print('자유도(df):',df)\n",
    "print('기대값(Expected Frequencies):')\n",
    "print(expected)"
   ]
  },
  {
   "cell_type": "code",
   "execution_count": null,
   "metadata": {},
   "outputs": [],
   "source": []
  }
 ],
 "metadata": {
  "kernelspec": {
   "display_name": "base",
   "language": "python",
   "name": "python3"
  },
  "language_info": {
   "codemirror_mode": {
    "name": "ipython",
    "version": 3
   },
   "file_extension": ".py",
   "mimetype": "text/x-python",
   "name": "python",
   "nbconvert_exporter": "python",
   "pygments_lexer": "ipython3",
   "version": "3.9.18"
  }
 },
 "nbformat": 4,
 "nbformat_minor": 2
}
