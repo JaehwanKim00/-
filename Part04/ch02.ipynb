{
 "cells": [
  {
   "cell_type": "markdown",
   "metadata": {},
   "source": [
    "# 표본의 평균 검정"
   ]
  },
  {
   "cell_type": "code",
   "execution_count": 3,
   "metadata": {},
   "outputs": [],
   "source": [
    "import pandas as pd\n",
    "import numpy as np\n",
    "from scipy import stats\n",
    "from scipy.stats import norm"
   ]
  },
  {
   "cell_type": "code",
   "execution_count": 5,
   "metadata": {},
   "outputs": [
    {
     "name": "stdout",
     "output_type": "stream",
     "text": [
      "표본평균: 27.9\n",
      "검정통계량: -0.01581138830084212\n",
      "임계값: 1.959963984540054\n",
      "p-값: 0.9873848630227964\n",
      "귀무가설 기각X.표본평균이 모집단 평균과 차이가 없을 가능성\n"
     ]
    }
   ],
   "source": [
    "data = np.array([23,25,28,30,26,27,29,32,31,28])\n",
    "\n",
    "# 모평균,모비율\n",
    "population_mean = 28\n",
    "population_var = 4\n",
    "\n",
    "#유의수준 설정\n",
    "alpha = 0.05\n",
    "\n",
    "\n",
    "# 단측,양측 검정 선택\n",
    "alternative = 'two.sided'\n",
    "\n",
    "sample_mean = np.mean(data)\n",
    "\n",
    "# 표본 크기\n",
    "n = len(data)\n",
    "\n",
    "test_statistic = (sample_mean-population_mean) / (np.sqrt(population_var))/(np.sqrt(n))\n",
    "\n",
    "# 임계값 계산 (Z-검정,양측 검정)\n",
    "critical_value = norm.ppf(1-alpha/2)\n",
    "\n",
    "# p값 계산\n",
    "p_value = 2 * (1-norm.cdf(abs(test_statistic)))\n",
    "\n",
    "\n",
    "# 결과출력\n",
    "print('표본평균:',sample_mean)\n",
    "print('검정통계량:',test_statistic)\n",
    "print('임계값:',critical_value)\n",
    "print('p-값:',p_value)\n",
    "\n",
    "# 결과해석\n",
    "if abs(test_statistic) > critical_value:\n",
    "    print('귀무가설을 기각.표본평균이 모집단 평균과 다름')\n",
    "else:\n",
    "    print('귀무가설 기각X.표본평균이 모집단 평균과 차이가 없을 가능성')"
   ]
  },
  {
   "cell_type": "code",
   "execution_count": null,
   "metadata": {},
   "outputs": [],
   "source": [
    "# T-Test, 신뢰구간\n",
    "\n",
    "import numpy as np\n",
    "from scipy import stats"
   ]
  }
 ],
 "metadata": {
  "kernelspec": {
   "display_name": "base",
   "language": "python",
   "name": "python3"
  },
  "language_info": {
   "codemirror_mode": {
    "name": "ipython",
    "version": 3
   },
   "file_extension": ".py",
   "mimetype": "text/x-python",
   "name": "python",
   "nbconvert_exporter": "python",
   "pygments_lexer": "ipython3",
   "version": "3.9.18"
  }
 },
 "nbformat": 4,
 "nbformat_minor": 2
}
