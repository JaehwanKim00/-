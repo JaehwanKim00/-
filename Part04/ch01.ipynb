{
 "cells": [
  {
   "cell_type": "markdown",
   "metadata": {},
   "source": [
    "# 통계적 가설 검정"
   ]
  },
  {
   "cell_type": "markdown",
   "metadata": {},
   "source": [
    "### 앞에 이론적인 부분은 생략(나는 통계학과니까...ㅎ)"
   ]
  },
  {
   "cell_type": "markdown",
   "metadata": {},
   "source": [
    "### 독립성검정(그나마 하나 정리)"
   ]
  },
  {
   "cell_type": "markdown",
   "metadata": {},
   "source": [
    "독립성검정은 두 범주형 변수간의 관계가 독립적인지를 판단\\\n",
    "두 변수 간의 상관성이 있는지, 어떤 요인이 다른 변수에 영향을 미치는지를 알고 싶을 때\\\n",
    "카이제곱 독립성 검정 사용"
   ]
  }
 ],
 "metadata": {
  "kernelspec": {
   "display_name": "base",
   "language": "python",
   "name": "python3"
  },
  "language_info": {
   "name": "python",
   "version": "3.9.18"
  }
 },
 "nbformat": 4,
 "nbformat_minor": 2
}
