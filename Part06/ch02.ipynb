{
 "cells": [
  {
   "cell_type": "markdown",
   "metadata": {},
   "source": [
    "# 기출문제 5회(2022.12.03)"
   ]
  },
  {
   "cell_type": "markdown",
   "metadata": {},
   "source": [
    "## 1유형"
   ]
  },
  {
   "cell_type": "code",
   "execution_count": null,
   "metadata": {},
   "outputs": [
    {
     "name": "stdout",
     "output_type": "stream",
     "text": [
      "   시도명 시군구명       종류 처리방식      용도 사용대상  1L가격  1.5L가격  2L가격  2.5L가격  ...  5L가격  \\\n",
      "0  강원도  강릉시     규격봉투  매립용   생활쓰레기   기타     0       0     0       0  ...   130   \n",
      "1  강원도  강릉시  재사용규격봉투  매립용   생활쓰레기   기타     0       0     0       0  ...     0   \n",
      "2  강원도  고성군     규격봉투  소각용   생활쓰레기  가정용     0       0     0       0  ...   140   \n",
      "3  강원도  고성군     규격봉투  소각용  음식물쓰레기  가정용     0       0    60       0  ...   120   \n",
      "4  강원도  고성군   특수규격마대  매립용   생활쓰레기  가정용     0       0     0       0  ...     0   \n",
      "\n",
      "   10L가격  20L가격  30L가격  50L가격  60L가격  75L가격  100L가격  120L가격  125L가격  \n",
      "0    270    520      0   1250      0   1880       0       0       0  \n",
      "1    270    520      0      0      0      0       0       0       0  \n",
      "2    260    500      0   1220      0      0    2410       0       0  \n",
      "3      0      0      0      0      0      0       0       0       0  \n",
      "4      0      0      0   1540      0      0       0       0       0  \n",
      "\n",
      "[5 rows x 21 columns]\n"
     ]
    }
   ],
   "source": [
    "#1\n",
    "import pandas as pd\n",
    "df = pd.read_csv('https://raw.githubusercontent.com/YoungjinBD/dataset/main/trash_bag.csv',encoding='cp949')\n",
    "\n",
    "print(df.head())"
   ]
  },
  {
   "cell_type": "code",
   "execution_count": 3,
   "metadata": {},
   "outputs": [
    {
     "name": "stdout",
     "output_type": "stream",
     "text": [
      "['생활쓰레기' '음식물쓰레기']\n",
      "['기타' '가정용' '사업장용' '영업용' '영업장용' '범용']\n"
     ]
    }
   ],
   "source": [
    "print(df['용도'].unique())\n",
    "print(df['사용대상'].unique())"
   ]
  },
  {
   "cell_type": "code",
   "execution_count": 4,
   "metadata": {},
   "outputs": [
    {
     "name": "stdout",
     "output_type": "stream",
     "text": [
      "    시도명 시군구명    종류 처리방식      용도 사용대상  1L가격  1.5L가격  2L가격  2.5L가격  ...  5L가격  \\\n",
      "3   강원도  고성군  규격봉투  소각용  음식물쓰레기  가정용     0       0    60       0  ...   120   \n",
      "8   강원도  삼척시  규격봉투  매립용  음식물쓰레기  가정용     0       0     0       0  ...    80   \n",
      "9   강원도  양구군  규격봉투  매립용  음식물쓰레기  가정용     0       0    50       0  ...   120   \n",
      "12  강원도  양양군  규격봉투   기타  음식물쓰레기  가정용     0       0    40       0  ...    90   \n",
      "16  강원도  영월군  규격봉투  매립용  음식물쓰레기  가정용     0       0     0       0  ...   110   \n",
      "\n",
      "    10L가격  20L가격  30L가격  50L가격  60L가격  75L가격  100L가격  120L가격  125L가격  \n",
      "3       0      0      0      0      0      0       0       0       0  \n",
      "8     150    290      0      0      0      0       0       0       0  \n",
      "9     210    400      0      0      0      0       0       0       0  \n",
      "12    170    340      0      0      0      0       0       0       0  \n",
      "16    180    350      0    900      0   1350       0       0       0  \n",
      "\n",
      "[5 rows x 21 columns]\n"
     ]
    }
   ],
   "source": [
    "df_home_trash = df[(df['용도'] == '음식물쓰레기') & (df['사용대상']== '가정용')]\n",
    "print(df_home_trash.head())"
   ]
  },
  {
   "cell_type": "code",
   "execution_count": 6,
   "metadata": {},
   "outputs": [
    {
     "data": {
      "text/html": [
       "<div>\n",
       "<style scoped>\n",
       "    .dataframe tbody tr th:only-of-type {\n",
       "        vertical-align: middle;\n",
       "    }\n",
       "\n",
       "    .dataframe tbody tr th {\n",
       "        vertical-align: top;\n",
       "    }\n",
       "\n",
       "    .dataframe thead th {\n",
       "        text-align: right;\n",
       "    }\n",
       "</style>\n",
       "<table border=\"1\" class=\"dataframe\">\n",
       "  <thead>\n",
       "    <tr style=\"text-align: right;\">\n",
       "      <th></th>\n",
       "      <th>시도명</th>\n",
       "      <th>시군구명</th>\n",
       "      <th>종류</th>\n",
       "      <th>처리방식</th>\n",
       "      <th>용도</th>\n",
       "      <th>사용대상</th>\n",
       "      <th>1L가격</th>\n",
       "      <th>1.5L가격</th>\n",
       "      <th>2L가격</th>\n",
       "      <th>2.5L가격</th>\n",
       "      <th>...</th>\n",
       "      <th>5L가격</th>\n",
       "      <th>10L가격</th>\n",
       "      <th>20L가격</th>\n",
       "      <th>30L가격</th>\n",
       "      <th>50L가격</th>\n",
       "      <th>60L가격</th>\n",
       "      <th>75L가격</th>\n",
       "      <th>100L가격</th>\n",
       "      <th>120L가격</th>\n",
       "      <th>125L가격</th>\n",
       "    </tr>\n",
       "  </thead>\n",
       "  <tbody>\n",
       "    <tr>\n",
       "      <th>3</th>\n",
       "      <td>강원도</td>\n",
       "      <td>고성군</td>\n",
       "      <td>규격봉투</td>\n",
       "      <td>소각용</td>\n",
       "      <td>음식물쓰레기</td>\n",
       "      <td>가정용</td>\n",
       "      <td>0</td>\n",
       "      <td>0</td>\n",
       "      <td>60</td>\n",
       "      <td>0</td>\n",
       "      <td>...</td>\n",
       "      <td>120</td>\n",
       "      <td>0</td>\n",
       "      <td>0</td>\n",
       "      <td>0</td>\n",
       "      <td>0</td>\n",
       "      <td>0</td>\n",
       "      <td>0</td>\n",
       "      <td>0</td>\n",
       "      <td>0</td>\n",
       "      <td>0</td>\n",
       "    </tr>\n",
       "    <tr>\n",
       "      <th>9</th>\n",
       "      <td>강원도</td>\n",
       "      <td>양구군</td>\n",
       "      <td>규격봉투</td>\n",
       "      <td>매립용</td>\n",
       "      <td>음식물쓰레기</td>\n",
       "      <td>가정용</td>\n",
       "      <td>0</td>\n",
       "      <td>0</td>\n",
       "      <td>50</td>\n",
       "      <td>0</td>\n",
       "      <td>...</td>\n",
       "      <td>120</td>\n",
       "      <td>210</td>\n",
       "      <td>400</td>\n",
       "      <td>0</td>\n",
       "      <td>0</td>\n",
       "      <td>0</td>\n",
       "      <td>0</td>\n",
       "      <td>0</td>\n",
       "      <td>0</td>\n",
       "      <td>0</td>\n",
       "    </tr>\n",
       "    <tr>\n",
       "      <th>12</th>\n",
       "      <td>강원도</td>\n",
       "      <td>양양군</td>\n",
       "      <td>규격봉투</td>\n",
       "      <td>기타</td>\n",
       "      <td>음식물쓰레기</td>\n",
       "      <td>가정용</td>\n",
       "      <td>0</td>\n",
       "      <td>0</td>\n",
       "      <td>40</td>\n",
       "      <td>0</td>\n",
       "      <td>...</td>\n",
       "      <td>90</td>\n",
       "      <td>170</td>\n",
       "      <td>340</td>\n",
       "      <td>0</td>\n",
       "      <td>0</td>\n",
       "      <td>0</td>\n",
       "      <td>0</td>\n",
       "      <td>0</td>\n",
       "      <td>0</td>\n",
       "      <td>0</td>\n",
       "    </tr>\n",
       "    <tr>\n",
       "      <th>20</th>\n",
       "      <td>강원도</td>\n",
       "      <td>원주시</td>\n",
       "      <td>규격봉투</td>\n",
       "      <td>기타</td>\n",
       "      <td>음식물쓰레기</td>\n",
       "      <td>가정용</td>\n",
       "      <td>0</td>\n",
       "      <td>0</td>\n",
       "      <td>80</td>\n",
       "      <td>0</td>\n",
       "      <td>...</td>\n",
       "      <td>170</td>\n",
       "      <td>320</td>\n",
       "      <td>680</td>\n",
       "      <td>0</td>\n",
       "      <td>1690</td>\n",
       "      <td>0</td>\n",
       "      <td>0</td>\n",
       "      <td>0</td>\n",
       "      <td>0</td>\n",
       "      <td>0</td>\n",
       "    </tr>\n",
       "    <tr>\n",
       "      <th>33</th>\n",
       "      <td>강원도</td>\n",
       "      <td>춘천시</td>\n",
       "      <td>규격봉투</td>\n",
       "      <td>매립용</td>\n",
       "      <td>음식물쓰레기</td>\n",
       "      <td>가정용</td>\n",
       "      <td>40</td>\n",
       "      <td>0</td>\n",
       "      <td>50</td>\n",
       "      <td>0</td>\n",
       "      <td>...</td>\n",
       "      <td>140</td>\n",
       "      <td>230</td>\n",
       "      <td>470</td>\n",
       "      <td>0</td>\n",
       "      <td>0</td>\n",
       "      <td>0</td>\n",
       "      <td>0</td>\n",
       "      <td>0</td>\n",
       "      <td>0</td>\n",
       "      <td>0</td>\n",
       "    </tr>\n",
       "  </tbody>\n",
       "</table>\n",
       "<p>5 rows × 21 columns</p>\n",
       "</div>"
      ],
      "text/plain": [
       "    시도명 시군구명    종류 처리방식      용도 사용대상  1L가격  1.5L가격  2L가격  2.5L가격  ...  5L가격  \\\n",
       "3   강원도  고성군  규격봉투  소각용  음식물쓰레기  가정용     0       0    60       0  ...   120   \n",
       "9   강원도  양구군  규격봉투  매립용  음식물쓰레기  가정용     0       0    50       0  ...   120   \n",
       "12  강원도  양양군  규격봉투   기타  음식물쓰레기  가정용     0       0    40       0  ...    90   \n",
       "20  강원도  원주시  규격봉투   기타  음식물쓰레기  가정용     0       0    80       0  ...   170   \n",
       "33  강원도  춘천시  규격봉투  매립용  음식물쓰레기  가정용    40       0    50       0  ...   140   \n",
       "\n",
       "    10L가격  20L가격  30L가격  50L가격  60L가격  75L가격  100L가격  120L가격  125L가격  \n",
       "3       0      0      0      0      0      0       0       0       0  \n",
       "9     210    400      0      0      0      0       0       0       0  \n",
       "12    170    340      0      0      0      0       0       0       0  \n",
       "20    320    680      0   1690      0      0       0       0       0  \n",
       "33    230    470      0      0      0      0       0       0       0  \n",
       "\n",
       "[5 rows x 21 columns]"
      ]
     },
     "execution_count": 6,
     "metadata": {},
     "output_type": "execute_result"
    }
   ],
   "source": [
    "result_df = df_home_trash[df_home_trash['2L가격']!=0]\n",
    "result_df.head()"
   ]
  },
  {
   "cell_type": "code",
   "execution_count": 7,
   "metadata": {},
   "outputs": [
    {
     "name": "stdout",
     "output_type": "stream",
     "text": [
      "119\n"
     ]
    }
   ],
   "source": [
    "result = int(result_df['2L가격'].mean())\n",
    "print(result)"
   ]
  },
  {
   "cell_type": "code",
   "execution_count": 9,
   "metadata": {},
   "outputs": [
    {
     "name": "stdout",
     "output_type": "stream",
     "text": [
      "   Gender  Height  Weight\n",
      "0    Male     174      96\n",
      "1    Male     189      87\n",
      "2  Female     185     110\n",
      "3  Female     195     104\n",
      "4    Male     149      61\n"
     ]
    }
   ],
   "source": [
    "# 2\n",
    "import pandas as pd\n",
    "df = pd.read_csv('https://raw.githubusercontent.com/YoungjinBD/dataset/main/BMI.csv')\n",
    "print(df.head())"
   ]
  },
  {
   "cell_type": "code",
   "execution_count": 10,
   "metadata": {},
   "outputs": [
    {
     "name": "stdout",
     "output_type": "stream",
     "text": [
      "   Gender  Height  Weight  Height_m        BMI\n",
      "0    Male     174      96      1.74  31.708284\n",
      "1    Male     189      87      1.89  24.355421\n",
      "2  Female     185     110      1.85  32.140248\n",
      "3  Female     195     104      1.95  27.350427\n",
      "4    Male     149      61      1.49  27.476240\n"
     ]
    }
   ],
   "source": [
    "df['Height_m'] = df['Height']/100\n",
    "df['BMI'] = df['Weight'] / (df['Height_m']**2)\n",
    "print(df.head())"
   ]
  },
  {
   "cell_type": "code",
   "execution_count": 13,
   "metadata": {},
   "outputs": [
    {
     "name": "stdout",
     "output_type": "stream",
     "text": [
      "47\n",
      "19\n"
     ]
    }
   ],
   "source": [
    "normal = len(df[(df['BMI']>=18.5)&(df['BMI']<23)])\n",
    "overweight = len(df[(df['BMI']>=23)&(df['BMI']<25)])\n",
    "print(normal)\n",
    "print(overweight)"
   ]
  },
  {
   "cell_type": "code",
   "execution_count": 14,
   "metadata": {},
   "outputs": [
    {
     "name": "stdout",
     "output_type": "stream",
     "text": [
      "28\n"
     ]
    }
   ],
   "source": [
    "result = normal - overweight\n",
    "print(result)"
   ]
  },
  {
   "cell_type": "code",
   "execution_count": 16,
   "metadata": {},
   "outputs": [
    {
     "name": "stdout",
     "output_type": "stream",
     "text": [
      "  학교  학년  총 전입학생  총 전출학생  전체학생 수\n",
      "0  A   1       9       1     222\n",
      "1  A   2      13       4     148\n",
      "2  A   3       8       7     196\n",
      "3  B   1       7       5     171\n",
      "4  B   2       9       1     216\n"
     ]
    }
   ],
   "source": [
    "# 3\n",
    "import pandas as pd\n",
    "df = pd.read_csv('https://raw.githubusercontent.com/YoungjinBD/dataset/main/students.csv',encoding = 'cp949')\n",
    "print(df.head())"
   ]
  },
  {
   "cell_type": "code",
   "execution_count": 18,
   "metadata": {},
   "outputs": [
    {
     "name": "stdout",
     "output_type": "stream",
     "text": [
      "  학교  학년  총 전입학생  총 전출학생  전체학생 수  순 전입학생 수\n",
      "0  A   1       9       1     222         8\n",
      "1  A   2      13       4     148         9\n",
      "2  A   3       8       7     196         1\n",
      "3  B   1       7       5     171         2\n",
      "4  B   2       9       1     216         8\n"
     ]
    }
   ],
   "source": [
    "df['순 전입학생 수'] = df['총 전입학생'] - df['총 전출학생']\n",
    "print(df.head())"
   ]
  },
  {
   "cell_type": "code",
   "execution_count": 19,
   "metadata": {},
   "outputs": [
    {
     "name": "stdout",
     "output_type": "stream",
     "text": [
      "    순 전입학생 수  전체학생 수\n",
      "학교                  \n",
      "A         18     566\n",
      "B         13     588\n",
      "C         -9     528\n",
      "D          7     548\n",
      "E         14     603\n",
      "F          1     481\n",
      "G         10     618\n",
      "H         -1     602\n"
     ]
    }
   ],
   "source": [
    "result_df = df.groupby(['학교'])[['순 전입학생 수','전체학생 수']].sum()\n",
    "print(result_df)"
   ]
  },
  {
   "cell_type": "code",
   "execution_count": 24,
   "metadata": {},
   "outputs": [
    {
     "name": "stdout",
     "output_type": "stream",
     "text": [
      "    순 전입학생 수  전체학생 수\n",
      "학교                  \n",
      "A         18     566\n",
      "E         14     603\n",
      "B         13     588\n",
      "G         10     618\n",
      "D          7     548\n",
      "F          1     481\n",
      "H         -1     602\n",
      "C         -9     528\n"
     ]
    }
   ],
   "source": [
    "a = result_df.sort_values(by = '순 전입학생 수',ascending=False)\n",
    "print(a)"
   ]
  },
  {
   "cell_type": "code",
   "execution_count": 25,
   "metadata": {},
   "outputs": [
    {
     "name": "stdout",
     "output_type": "stream",
     "text": [
      "566\n"
     ]
    },
    {
     "name": "stderr",
     "output_type": "stream",
     "text": [
      "C:\\Users\\Public\\Documents\\ESTsoft\\CreatorTemp\\ipykernel_26856\\1080747778.py:1: FutureWarning: Series.__getitem__ treating keys as positions is deprecated. In a future version, integer keys will always be treated as labels (consistent with DataFrame behavior). To access a value by position, use `ser.iloc[pos]`\n",
      "  print(a['전체학생 수'][0])\n"
     ]
    }
   ],
   "source": [
    "print(a['전체학생 수'][0])"
   ]
  },
  {
   "cell_type": "markdown",
   "metadata": {},
   "source": [
    "## 2유형"
   ]
  },
  {
   "cell_type": "code",
   "execution_count": 36,
   "metadata": {},
   "outputs": [
    {
     "name": "stdout",
     "output_type": "stream",
     "text": [
      "   id model  year transmission  mileage fuelType  tax   mpg  engineSize\n",
      "0   1    A1  2019    Automatic     3500   Petrol  145  40.9         2.0\n",
      "1   2   RS4  2020    Semi-Auto     2500   Petrol  145  28.8         2.9\n",
      "2   3    A8  2019    Semi-Auto      500   Diesel  145  40.4         3.0\n",
      "3   4    Q5  2019    Semi-Auto     5089   Diesel  150  38.2         2.0\n",
      "4   5    A5  2020    Semi-Auto     4951   Diesel  145  51.4         2.0\n"
     ]
    }
   ],
   "source": [
    "import pandas as pd\n",
    "\n",
    "X_test = pd.read_csv('https://raw.githubusercontent.com/YoungjinBD/dataset/main/used_car_X_test.csv')\n",
    "X_train = pd.read_csv('https://raw.githubusercontent.com/YoungjinBD/dataset/main/used_car_X_train.csv')\n",
    "y_train = pd.read_csv('https://raw.githubusercontent.com/YoungjinBD/dataset/main/used_car_y_train.csv')\n",
    "\n",
    "print(X_train.head())\n",
    "                    \n"
   ]
  },
  {
   "cell_type": "code",
   "execution_count": 37,
   "metadata": {},
   "outputs": [
    {
     "name": "stdout",
     "output_type": "stream",
     "text": [
      "id              0\n",
      "model           0\n",
      "year            0\n",
      "transmission    0\n",
      "mileage         0\n",
      "fuelType        0\n",
      "tax             0\n",
      "mpg             0\n",
      "engineSize      0\n",
      "dtype: int64\n",
      "id              0\n",
      "model           0\n",
      "year            0\n",
      "transmission    0\n",
      "mileage         0\n",
      "fuelType        0\n",
      "tax             0\n",
      "mpg             0\n",
      "engineSize      0\n",
      "dtype: int64\n",
      "id       0\n",
      "price    0\n",
      "dtype: int64\n"
     ]
    }
   ],
   "source": [
    "print(X_train.isnull().sum())\n",
    "print(X_test.isnull().sum())\n",
    "print(y_train.isnull().sum())"
   ]
  },
  {
   "cell_type": "code",
   "execution_count": 38,
   "metadata": {},
   "outputs": [
    {
     "name": "stdout",
     "output_type": "stream",
     "text": [
      "     model transmission fuelType\n",
      "0       A1    Automatic   Petrol\n",
      "1      RS4    Semi-Auto   Petrol\n",
      "2       A8    Semi-Auto   Diesel\n",
      "3       Q5    Semi-Auto   Diesel\n",
      "4       A5    Semi-Auto   Diesel\n",
      "...    ...          ...      ...\n",
      "7463    A3       Manual   Petrol\n",
      "7464    Q2       Manual   Diesel\n",
      "7465    A1    Semi-Auto   Petrol\n",
      "7466    Q3       Manual   Diesel\n",
      "7467    Q7    Automatic   Diesel\n",
      "\n",
      "[7468 rows x 3 columns]\n"
     ]
    }
   ],
   "source": [
    "# 데이터 나누기\n",
    "# 범주형 데이터\n",
    "X_train_word = X_train[['model','transmission','fuelType']]\n",
    "X_test_word = X_test[['model','transmission','fuelType']]\n",
    "print(X_train_word)"
   ]
  },
  {
   "cell_type": "code",
   "execution_count": 39,
   "metadata": {},
   "outputs": [
    {
     "name": "stdout",
     "output_type": "stream",
     "text": [
      "      year  mileage  tax   mpg  engineSize\n",
      "0     2019     3500  145  40.9         2.0\n",
      "1     2020     2500  145  28.8         2.9\n",
      "2     2019      500  145  40.4         3.0\n",
      "3     2019     5089  150  38.2         2.0\n",
      "4     2020     4951  145  51.4         2.0\n",
      "...    ...      ...  ...   ...         ...\n",
      "7463  2016    22633   30  58.9         1.4\n",
      "7464  2017    13272  145  64.2         1.6\n",
      "7465  2019     5000  145  40.9         2.0\n",
      "7466  2019       10  145  42.8         2.0\n",
      "7467  2012    91229  300  39.2         3.0\n",
      "\n",
      "[7468 rows x 5 columns]\n"
     ]
    }
   ],
   "source": [
    "# 수치형 데이터\n",
    "X_train_num = X_train.drop(columns = ['id','model','transmission','fuelType'])\n",
    "X_test_num =  X_test.drop(columns = ['id','model','transmission','fuelType'])\n",
    "print(X_train_num)"
   ]
  },
  {
   "cell_type": "code",
   "execution_count": 40,
   "metadata": {},
   "outputs": [],
   "source": [
    "# 데이터 스케일링\n",
    "from sklearn.preprocessing import MinMaxScaler\n",
    "\n",
    "scaler = MinMaxScaler()\n",
    "\n",
    "X_train_num_scale = scaler.fit_transform(X_train_num)\n",
    "X_test_num_scale = scaler.fit_transform(X_test_num)\n",
    "\n",
    "\n",
    "df_train_num = pd.DataFrame(X_train_num_scale,columns = X_train_num.columns)\n",
    "df_test_num = pd.DataFrame(X_test_num_scale,columns = X_test_num.columns)\n",
    "\n",
    "df_train_word=  pd.get_dummies(X_train_word)\n",
    "df_test_word = pd.get_dummies(X_test_word)"
   ]
  },
  {
   "cell_type": "code",
   "execution_count": 41,
   "metadata": {},
   "outputs": [
    {
     "name": "stdout",
     "output_type": "stream",
     "text": [
      "          year   mileage       tax       mpg  engineSize  model_ A1  \\\n",
      "0     0.954545  0.020825  0.250000  0.127811    0.317460       True   \n",
      "1     1.000000  0.014874  0.250000  0.056213    0.460317      False   \n",
      "2     0.954545  0.002970  0.250000  0.124852    0.476190      False   \n",
      "3     0.954545  0.030283  0.258621  0.111834    0.317460      False   \n",
      "4     1.000000  0.029461  0.250000  0.189941    0.317460      False   \n",
      "...        ...       ...       ...       ...         ...        ...   \n",
      "7463  0.818182  0.134701  0.051724  0.234320    0.222222      False   \n",
      "7464  0.863636  0.078987  0.250000  0.265680    0.253968      False   \n",
      "7465  0.954545  0.029753  0.250000  0.127811    0.317460       True   \n",
      "7466  0.954545  0.000054  0.250000  0.139053    0.317460      False   \n",
      "7467  0.636364  0.542972  0.517241  0.117751    0.476190      False   \n",
      "\n",
      "      model_ A2  model_ A3  model_ A4  model_ A5  ...  model_ S8  model_ SQ5  \\\n",
      "0         False      False      False      False  ...      False       False   \n",
      "1         False      False      False      False  ...      False       False   \n",
      "2         False      False      False      False  ...      False       False   \n",
      "3         False      False      False      False  ...      False       False   \n",
      "4         False      False      False       True  ...      False       False   \n",
      "...         ...        ...        ...        ...  ...        ...         ...   \n",
      "7463      False       True      False      False  ...      False       False   \n",
      "7464      False      False      False      False  ...      False       False   \n",
      "7465      False      False      False      False  ...      False       False   \n",
      "7466      False      False      False      False  ...      False       False   \n",
      "7467      False      False      False      False  ...      False       False   \n",
      "\n",
      "      model_ SQ7  model_ TT  transmission_Automatic  transmission_Manual  \\\n",
      "0          False      False                    True                False   \n",
      "1          False      False                   False                False   \n",
      "2          False      False                   False                False   \n",
      "3          False      False                   False                False   \n",
      "4          False      False                   False                False   \n",
      "...          ...        ...                     ...                  ...   \n",
      "7463       False      False                   False                 True   \n",
      "7464       False      False                   False                 True   \n",
      "7465       False      False                   False                False   \n",
      "7466       False      False                   False                 True   \n",
      "7467       False      False                    True                False   \n",
      "\n",
      "      transmission_Semi-Auto  fuelType_Diesel  fuelType_Hybrid  \\\n",
      "0                      False            False            False   \n",
      "1                       True            False            False   \n",
      "2                       True             True            False   \n",
      "3                       True             True            False   \n",
      "4                       True             True            False   \n",
      "...                      ...              ...              ...   \n",
      "7463                   False            False            False   \n",
      "7464                   False             True            False   \n",
      "7465                    True            False            False   \n",
      "7466                   False             True            False   \n",
      "7467                   False             True            False   \n",
      "\n",
      "      fuelType_Petrol  \n",
      "0                True  \n",
      "1                True  \n",
      "2               False  \n",
      "3               False  \n",
      "4               False  \n",
      "...               ...  \n",
      "7463             True  \n",
      "7464            False  \n",
      "7465             True  \n",
      "7466            False  \n",
      "7467            False  \n",
      "\n",
      "[7468 rows x 37 columns]\n"
     ]
    }
   ],
   "source": [
    "train_columns = set(df_train_word.columns)\n",
    "\n",
    "test_columns = set(df_test_word.columns)\n",
    "\n",
    "missing_in_test = train_columns - test_columns\n",
    "\n",
    "missing_in_train = test_columns - train_columns\n",
    "\n",
    "# 컬럼 목록 중 없는 컬럼의 값 0으로 대체\n",
    "df_test_word['model_RS7'] = 0\n",
    "df_test_word['model_S8'] = 0\n",
    "df_test_word['model_A2'] = 0\n",
    "df_test_word['model_S5'] = 0\n",
    "\n",
    "df_train = pd.concat([df_train_num,df_train_word],axis = 1)\n",
    "df_test = pd.concat([df_test_num, df_test_word],axis = 1)\n",
    "print(df_train)"
   ]
  },
  {
   "cell_type": "code",
   "execution_count": 42,
   "metadata": {},
   "outputs": [
    {
     "name": "stdout",
     "output_type": "stream",
     "text": [
      "2549.9657572151928\n"
     ]
    }
   ],
   "source": [
    "# 모델 학습\n",
    "from pandas.core.common import random_state\n",
    "import xgboost as xgb\n",
    "from sklearn.model_selection import train_test_split\n",
    "from sklearn.metrics import mean_squared_error\n",
    "import numpy as np\n",
    "\n",
    "model = xgb.XGBRegressor(random_state = 77)\n",
    "\n",
    "X_train,X_val,y_train_t,y_val = train_test_split(df_train.values,y_train['price'].values,test_size=0.3)\n",
    "\n",
    "model.fit(X_train,y_train_t)\n",
    "\n",
    "\n",
    "y_pred = model.predict(X_val)\n",
    "print(np.sqrt(mean_squared_error(y_val,y_pred)))"
   ]
  },
  {
   "cell_type": "code",
   "execution_count": 43,
   "metadata": {},
   "outputs": [
    {
     "name": "stdout",
     "output_type": "stream",
     "text": [
      "     id         price\n",
      "0  7469  41858.433594\n",
      "1  7470  22271.193359\n",
      "2  7471  36721.925781\n",
      "3  7472  20962.218750\n",
      "4  7473  19095.955078\n"
     ]
    }
   ],
   "source": [
    "# 예측\n",
    "y_pred = model.predict(df_test)\n",
    "df = pd.DataFrame(X_test['id'],columns = ['id'])\n",
    "df['price'] = y_pred\n",
    "print(df.head())"
   ]
  },
  {
   "cell_type": "code",
   "execution_count": null,
   "metadata": {},
   "outputs": [],
   "source": [
    "# csv 저장\n",
    "# df.to_csv('result.csv',index=False)"
   ]
  },
  {
   "cell_type": "code",
   "execution_count": null,
   "metadata": {},
   "outputs": [],
   "source": []
  }
 ],
 "metadata": {
  "kernelspec": {
   "display_name": "base",
   "language": "python",
   "name": "python3"
  },
  "language_info": {
   "codemirror_mode": {
    "name": "ipython",
    "version": 3
   },
   "file_extension": ".py",
   "mimetype": "text/x-python",
   "name": "python",
   "nbconvert_exporter": "python",
   "pygments_lexer": "ipython3",
   "version": "3.9.18"
  }
 },
 "nbformat": 4,
 "nbformat_minor": 2
}
