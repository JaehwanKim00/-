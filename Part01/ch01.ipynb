{
 "cells": [
  {
   "cell_type": "code",
   "execution_count": 1,
   "metadata": {},
   "outputs": [
    {
     "name": "stdout",
     "output_type": "stream",
     "text": [
      "첫번쨰 파이썬 프로그래밍\n"
     ]
    }
   ],
   "source": [
    "print('첫번쨰 파이썬 프로그래밍')"
   ]
  },
  {
   "cell_type": "markdown",
   "metadata": {},
   "source": [
    "# 변수,데이터 타입, 연산자"
   ]
  },
  {
   "cell_type": "code",
   "execution_count": 2,
   "metadata": {},
   "outputs": [
    {
     "name": "stdout",
     "output_type": "stream",
     "text": [
      "1\n"
     ]
    }
   ],
   "source": [
    "a = 1 \n",
    "print(a)"
   ]
  },
  {
   "cell_type": "code",
   "execution_count": 3,
   "metadata": {},
   "outputs": [
    {
     "name": "stdout",
     "output_type": "stream",
     "text": [
      "5\n"
     ]
    }
   ],
   "source": [
    "b = 5\n",
    "a = b\n",
    "print(a)"
   ]
  },
  {
   "cell_type": "markdown",
   "metadata": {},
   "source": [
    "## 데이터 타입\n",
    "변수에 저장되는 값의 형식을 저장하는 것\\\n",
    "숫자,문자열,리스트,튜플,딕셔너리 형식\\\n",
    "\n",
    "숫자형 : 정수형,실수형\\\n",
    "문자열형 : '첫번째 파이썬 프로그래밍','Hello World','서울'\\\n",
    "리스트형 : [1,2,3,4,5],[10,20,30,40,50]\\\n",
    "튜플형 : (1,2,3,4,5), ('a','b','c'('aa','bb'))\\\n",
    "딕셔너리형 : {'nation':'대한민국','city':'서울','contact':'010-1234-1234'}\\\n",
    "집합형 : {4,5,6},{'a','b','c'}\\\n",
    "논리형 : True,False"
   ]
  },
  {
   "cell_type": "markdown",
   "metadata": {},
   "source": [
    "### 숫자형"
   ]
  },
  {
   "cell_type": "code",
   "execution_count": 4,
   "metadata": {},
   "outputs": [
    {
     "name": "stdout",
     "output_type": "stream",
     "text": [
      "1 5 3.3 0.5\n"
     ]
    }
   ],
   "source": [
    "a = 1\n",
    "b = 5\n",
    "c = 3.3\n",
    "d = 0.5\n",
    "print(a,b,c,d)"
   ]
  },
  {
   "cell_type": "code",
   "execution_count": 5,
   "metadata": {},
   "outputs": [
    {
     "name": "stdout",
     "output_type": "stream",
     "text": [
      "15 5 50 2.0\n",
      "1000 3 1\n"
     ]
    }
   ],
   "source": [
    "a = 10\n",
    "b = 5\n",
    "c = 3\n",
    "print(a+b,a-b,a*b,a/b)\n",
    "print(a**c,a//c,a%c)"
   ]
  },
  {
   "cell_type": "markdown",
   "metadata": {},
   "source": [
    "### 문자열형"
   ]
  },
  {
   "cell_type": "code",
   "execution_count": 7,
   "metadata": {},
   "outputs": [
    {
     "name": "stdout",
     "output_type": "stream",
     "text": [
      "pythonprogramming\n",
      "pythonpython\n"
     ]
    }
   ],
   "source": [
    "str1 = 'python'\n",
    "str2 = 'programming'\n",
    "print(str1+str2) # 단어 합침\n",
    "print(str1*2) # 2번 반복"
   ]
  },
  {
   "cell_type": "code",
   "execution_count": 8,
   "metadata": {},
   "outputs": [
    {
     "name": "stdout",
     "output_type": "stream",
     "text": [
      "p y t\n",
      "pyth\n",
      "n pr\n"
     ]
    }
   ],
   "source": [
    "# 인덱싱,슬라이싱\n",
    "# 인덱스는 0부터 시작\n",
    "# Ex) str[0]은 첫번째 문자,str[1] 두번쨰 문자\n",
    "# 슬라이싱 : 인덱스를 이용해서 문자열 일부 잘라냄\n",
    "\n",
    "str = 'python programming'\n",
    "print(str[0],str[1],str[2])\n",
    "\n",
    "print(str[0:4])\n",
    "\n",
    "print(str[5:9])"
   ]
  },
  {
   "cell_type": "code",
   "execution_count": 9,
   "metadata": {},
   "outputs": [
    {
     "name": "stdout",
     "output_type": "stream",
     "text": [
      "오늘은 13일 입니다\n",
      "오늘은 수요일 입니다\n",
      "지금 온도는 32.700000도 입니다.\n",
      "지금 온도는 32.70도 입니다\n"
     ]
    }
   ],
   "source": [
    "# 문자열 포맷팅\n",
    "print('오늘은 %d일 입니다'%13)\n",
    "print('오늘은 %s 입니다'%'수요일')\n",
    "print('지금 온도는 %f도 입니다.' %32.7)\n",
    "print('지금 온도는 %0.2f도 입니다'%32.7) # 소수점 2번째 자리에서 출력"
   ]
  },
  {
   "cell_type": "code",
   "execution_count": 11,
   "metadata": {},
   "outputs": [],
   "source": [
    "# 문자열 포맷코드\n",
    "# %s : 문자열\n",
    "# %c : 단일 문자\n",
    "# %d : 정수\n",
    "# %f : 실수\n",
    "# %0 : 8진수\n",
    "# %x : 16진수\n",
    "# % 문자 자체를 출력하고 싶을 때는 %%"
   ]
  },
  {
   "cell_type": "code",
   "execution_count": 12,
   "metadata": {},
   "outputs": [
    {
     "name": "stdout",
     "output_type": "stream",
     "text": [
      "파이썬\n",
      " 프로그래밍\n",
      "파이썬\n",
      "프로그래밍\n"
     ]
    }
   ],
   "source": [
    "# 여러 줄인 문자열을 변수에 대입할 때\n",
    "str = '파이썬\\n 프로그래밍'\n",
    "print(str)\n",
    "str1 = \"\"\"파이썬\n",
    "프로그래밍\"\"\"\n",
    "print(str1)"
   ]
  },
  {
   "cell_type": "code",
   "execution_count": 20,
   "metadata": {},
   "outputs": [
    {
     "name": "stdout",
     "output_type": "stream",
     "text": [
      "2\n",
      "p/y/t/h/o/n/ /p/r/o/g/r/a/m/m/i/n/g\n",
      "13\n",
      "PYTHON PROGRAMMING\n",
      "python programming\n",
      "Java Programming\n"
     ]
    },
    {
     "data": {
      "text/plain": [
       "['Python', 'Programming']"
      ]
     },
     "execution_count": 20,
     "metadata": {},
     "output_type": "execute_result"
    }
   ],
   "source": [
    "# 문자열 내장 함수\n",
    "# count() : 문자열 내의 특정 문자 개수 세기\n",
    "str = 'python programming'\n",
    "print(str.count('p'))\n",
    "\n",
    "# join() : 문자열 삽입\n",
    "print(\"/\".join('python programming'))\n",
    "\n",
    "# find() : 찾는 문자열이 처음 나온 위치를 반환\n",
    "str1 = 'python programming'\n",
    "print(str1.find('m'))\n",
    "\n",
    "# upper : 소문자를 대문자로 변환\n",
    "str2 = 'Python Programming'\n",
    "print(str2.upper())\n",
    "\n",
    "# lower : 대문자를 소문자로 변환\n",
    "str3 = 'Python Programming'\n",
    "print(str3.lower())\n",
    "\n",
    "# replace : 문자열 내의 특정 값을 다른 값으로 치환\n",
    "str4 = 'Python Programming'\n",
    "print(str4.replace('Python','Java'))\n",
    "\n",
    "# split : 공백 또는 특정 문자를 구분자로 문자열 분리\n",
    "str5 = 'Python Programming'\n",
    "str5.split() # 공백기준\n",
    "\n"
   ]
  },
  {
   "cell_type": "code",
   "execution_count": 21,
   "metadata": {},
   "outputs": [],
   "source": [
    "# 연산자\n",
    "# // : 몫만 출력\n",
    "# % : 나머지\n",
    "# ** : 거듭제곱"
   ]
  },
  {
   "cell_type": "code",
   "execution_count": 22,
   "metadata": {},
   "outputs": [],
   "source": [
    "# 비교연산자 패스"
   ]
  },
  {
   "cell_type": "code",
   "execution_count": 24,
   "metadata": {},
   "outputs": [],
   "source": [
    "# 논리연산자 패스"
   ]
  },
  {
   "cell_type": "code",
   "execution_count": 25,
   "metadata": {},
   "outputs": [],
   "source": [
    "# 복합대입연산자\n",
    "# += -> a+=10 : a = a+10\n",
    "# -= -> a-=10 : a = a-10\n",
    "# *= -> a*=10 : a = a*10\n",
    "# /= -> a/=10 : a = a/10"
   ]
  },
  {
   "cell_type": "markdown",
   "metadata": {},
   "source": [
    "# 조건문,반복문"
   ]
  },
  {
   "cell_type": "code",
   "execution_count": 26,
   "metadata": {},
   "outputs": [
    {
     "name": "stdout",
     "output_type": "stream",
     "text": [
      "a는 양의 정수\n"
     ]
    }
   ],
   "source": [
    "# 조건문 if\n",
    "a = 10\n",
    "if a>0:\n",
    "    print('a는 양의 정수')"
   ]
  },
  {
   "cell_type": "code",
   "execution_count": 31,
   "metadata": {},
   "outputs": [
    {
     "name": "stdout",
     "output_type": "stream",
     "text": [
      "10\n"
     ]
    }
   ],
   "source": [
    "a=10\n",
    "if a<0:\n",
    "    print('a는 음의 정수')\n",
    "print(a)"
   ]
  },
  {
   "cell_type": "code",
   "execution_count": 32,
   "metadata": {},
   "outputs": [
    {
     "name": "stdout",
     "output_type": "stream",
     "text": [
      "a는 -10입니다\n",
      "a는 음의 정수입니다\n"
     ]
    }
   ],
   "source": [
    "# if,else\n",
    "a=-10\n",
    "if a>0:\n",
    "    print('a는 %d입니다'%a)\n",
    "    print('a는 양의 정수입니다')\n",
    "else:\n",
    "    print('a는 %d입니다'%a)\n",
    "    print('a는 음의 정수입니다')\n"
   ]
  },
  {
   "cell_type": "code",
   "execution_count": 33,
   "metadata": {},
   "outputs": [
    {
     "name": "stdout",
     "output_type": "stream",
     "text": [
      "a는 음의 정수입니다\n"
     ]
    }
   ],
   "source": [
    "# if,elif,else\n",
    "if a>0:\n",
    "    print('a는 양의 정수입니다')\n",
    "elif a==0:\n",
    "    print('a는 0입니다')\n",
    "else:\n",
    "    print('a는 음의 정수입니다')\n"
   ]
  },
  {
   "cell_type": "code",
   "execution_count": 36,
   "metadata": {},
   "outputs": [
    {
     "name": "stdout",
     "output_type": "stream",
     "text": [
      "가장 큰 수는 90\n"
     ]
    }
   ],
   "source": [
    "# 세 수 중 가장 큰 수 찾기\n",
    "a = int(input('첫번째 수를 입력하세요'))\n",
    "b = int(input('두번째 수를 입력하세요'))\n",
    "c = int(input('세번째 수를 입력하세요'))\n",
    "\n",
    "if a>=b:\n",
    "    big = a\n",
    "else : \n",
    "    big = b\n",
    "\n",
    "if c>=big:\n",
    "    print('가장 큰 수는 %d'%c)\n",
    "else:\n",
    "    print('가장 큰 수는 %d'%big)"
   ]
  },
  {
   "cell_type": "code",
   "execution_count": 1,
   "metadata": {},
   "outputs": [],
   "source": [
    "# 반복문\n",
    "#for문\n"
   ]
  },
  {
   "cell_type": "code",
   "execution_count": 5,
   "metadata": {},
   "outputs": [
    {
     "name": "stdout",
     "output_type": "stream",
     "text": [
      "python programming\n",
      "python programming\n",
      "python programming\n",
      "python programming\n",
      "python programming\n"
     ]
    }
   ],
   "source": [
    "for i in range(5):\n",
    "    print('python programming')"
   ]
  },
  {
   "cell_type": "code",
   "execution_count": 3,
   "metadata": {},
   "outputs": [
    {
     "name": "stdout",
     "output_type": "stream",
     "text": [
      "i의 값 : 1, 합계 : 1\n",
      "i의 값 : 2, 합계 : 3\n",
      "i의 값 : 3, 합계 : 6\n",
      "i의 값 : 4, 합계 : 10\n",
      "i의 값 : 5, 합계 : 15\n"
     ]
    }
   ],
   "source": [
    "sum = 0\n",
    "# range(1,6)은 1,2,3,4,5의 5개 숫자를 생성\n",
    "\n",
    "for i in range(1,6):\n",
    "    sum = sum + i\n",
    "    print(\"i의 값 : %d, 합계 : %d\" %(i,sum))\n"
   ]
  },
  {
   "cell_type": "code",
   "execution_count": 4,
   "metadata": {},
   "outputs": [
    {
     "name": "stdout",
     "output_type": "stream",
     "text": [
      "1 3 5 7 9 "
     ]
    }
   ],
   "source": [
    "for i in range(1,10,2):\n",
    "    print(i,end = ' ')\n"
   ]
  },
  {
   "cell_type": "code",
   "execution_count": 7,
   "metadata": {},
   "outputs": [
    {
     "name": "stdout",
     "output_type": "stream",
     "text": [
      "p\n",
      "y\n",
      "t\n",
      "h\n",
      "o\n",
      "n\n"
     ]
    }
   ],
   "source": [
    "for x in 'python':\n",
    "    print(x)"
   ]
  },
  {
   "cell_type": "code",
   "execution_count": 8,
   "metadata": {},
   "outputs": [
    {
     "name": "stdout",
     "output_type": "stream",
     "text": [
      "1 2 3 4 \n",
      "2 4 6 8 \n",
      "3 6 9 12 \n",
      "4 8 12 16 \n"
     ]
    }
   ],
   "source": [
    "for i in range(1,5):\n",
    "    for j in range(1,5):\n",
    "        print(i*j,end  = \" \")\n",
    "    print()"
   ]
  },
  {
   "cell_type": "code",
   "execution_count": 12,
   "metadata": {},
   "outputs": [
    {
     "name": "stdout",
     "output_type": "stream",
     "text": [
      "2*1 = 2 2*2 = 4 2*3 = 6 2*4 = 8 2*5 = 10 2*6 = 12 2*7 = 14 2*8 = 16 2*9 = 18 \n",
      "3*1 = 3 3*2 = 6 3*3 = 9 3*4 = 12 3*5 = 15 3*6 = 18 3*7 = 21 3*8 = 24 3*9 = 27 \n",
      "4*1 = 4 4*2 = 8 4*3 = 12 4*4 = 16 4*5 = 20 4*6 = 24 4*7 = 28 4*8 = 32 4*9 = 36 \n",
      "5*1 = 5 5*2 = 10 5*3 = 15 5*4 = 20 5*5 = 25 5*6 = 30 5*7 = 35 5*8 = 40 5*9 = 45 \n",
      "6*1 = 6 6*2 = 12 6*3 = 18 6*4 = 24 6*5 = 30 6*6 = 36 6*7 = 42 6*8 = 48 6*9 = 54 \n",
      "7*1 = 7 7*2 = 14 7*3 = 21 7*4 = 28 7*5 = 35 7*6 = 42 7*7 = 49 7*8 = 56 7*9 = 63 \n",
      "8*1 = 8 8*2 = 16 8*3 = 24 8*4 = 32 8*5 = 40 8*6 = 48 8*7 = 56 8*8 = 64 8*9 = 72 \n",
      "9*1 = 9 9*2 = 18 9*3 = 27 9*4 = 36 9*5 = 45 9*6 = 54 9*7 = 63 9*8 = 72 9*9 = 81 \n"
     ]
    }
   ],
   "source": [
    "# 구구단\n",
    "for i in range(2,10):\n",
    "    for j in range(1,10):\n",
    "        print(\"%d*%d = %d\" %(i,j,i*j),end = \" \")\n",
    "    print()"
   ]
  },
  {
   "cell_type": "code",
   "execution_count": 13,
   "metadata": {},
   "outputs": [
    {
     "name": "stdout",
     "output_type": "stream",
     "text": [
      "python programming\n",
      "python programming\n",
      "python programming\n",
      "python programming\n",
      "python programming\n"
     ]
    }
   ],
   "source": [
    "# while\n",
    "i = 1\n",
    "while i<=5:\n",
    "    print('python programming')\n",
    "    i = i+1"
   ]
  },
  {
   "cell_type": "code",
   "execution_count": 15,
   "metadata": {},
   "outputs": [
    {
     "name": "stdout",
     "output_type": "stream",
     "text": [
      "i의 값 : 1, 합계 : 1\n",
      "i의 값 : 2, 합계 : 3\n",
      "i의 값 : 3, 합계 : 6\n",
      "i의 값 : 4, 합계 : 10\n",
      "i의 값 : 5, 합계 : 15\n"
     ]
    }
   ],
   "source": [
    "sum = 0\n",
    "i = 1\n",
    "while i<=5:\n",
    "    sum = sum+i\n",
    "    print('i의 값 : %d, 합계 : %d' %(i,sum))\n",
    "    i = i+1"
   ]
  },
  {
   "cell_type": "code",
   "execution_count": 17,
   "metadata": {},
   "outputs": [
    {
     "name": "stdout",
     "output_type": "stream",
     "text": [
      "p y t h o n   p r o g r a m m i n g "
     ]
    }
   ],
   "source": [
    "i = 0\n",
    "s = 'python programming'\n",
    "while i<= (len(s)-1):\n",
    "    print(s[i],end = ' ')\n",
    "    i = i+1"
   ]
  },
  {
   "cell_type": "code",
   "execution_count": 19,
   "metadata": {},
   "outputs": [
    {
     "name": "stdout",
     "output_type": "stream",
     "text": [
      "0 1 2 3 4 5 6 7 8 9 "
     ]
    }
   ],
   "source": [
    "i = 0\n",
    "while i<100:\n",
    "    print(i,end = ' ')\n",
    "    i = i+1\n",
    "    if i ==10:\n",
    "        break"
   ]
  },
  {
   "cell_type": "code",
   "execution_count": 27,
   "metadata": {},
   "outputs": [
    {
     "name": "stdout",
     "output_type": "stream",
     "text": [
      "평균은 72.300입니다\n"
     ]
    }
   ],
   "source": [
    "# 평균 점수 계산\n",
    "# for문 사용\n",
    "a = [70,60,55,95,80,70,85,47,83,78]\n",
    "sum = 0\n",
    "avg = 0\n",
    "\n",
    "for x in a:\n",
    "    sum = sum +x\n",
    "\n",
    "avg = sum/len(a)\n",
    "print('평균은 %0.3f입니다'%avg)"
   ]
  },
  {
   "cell_type": "code",
   "execution_count": 30,
   "metadata": {},
   "outputs": [
    {
     "name": "stdout",
     "output_type": "stream",
     "text": [
      "평균은 72.300입니다\n"
     ]
    }
   ],
   "source": [
    "# while문 사용\n",
    "a = [70,60,55,95,80,70,85,47,83,78]\n",
    "sum = 0\n",
    "avg = 0\n",
    "\n",
    "i = 0\n",
    "while i <10:\n",
    "    sum = sum +a[i]\n",
    "    i = i+1\n",
    "\n",
    "avg = sum/len(a)\n",
    "print('평균은 %0.3f입니다'%avg)"
   ]
  },
  {
   "cell_type": "markdown",
   "metadata": {},
   "source": [
    "## 리스트,튜플,딕셔너리"
   ]
  },
  {
   "cell_type": "code",
   "execution_count": 31,
   "metadata": {},
   "outputs": [],
   "source": [
    "a =[]\n",
    "b = [1,2,3]\n",
    "c = ['사과','딸기','포도','오렌지']\n",
    "d = [1,2,'.python','programming']"
   ]
  },
  {
   "cell_type": "code",
   "execution_count": 34,
   "metadata": {},
   "outputs": [
    {
     "name": "stdout",
     "output_type": "stream",
     "text": [
      "[1, 2, 3, 4]\n",
      "1 4 4\n"
     ]
    }
   ],
   "source": [
    "# 인덱싱\n",
    "a = [1,2,3,4]\n",
    "print(a)\n",
    "print(a[0],a[-1],a[0]+a[2])"
   ]
  },
  {
   "cell_type": "code",
   "execution_count": 35,
   "metadata": {},
   "outputs": [
    {
     "name": "stdout",
     "output_type": "stream",
     "text": [
      "[1, 2, 3, 4, 5, 6]\n",
      "[1, 2, 3, 1, 2, 3, 1, 2, 3]\n"
     ]
    }
   ],
   "source": [
    "# 리스트 계산\n",
    "a = [1,2,3]\n",
    "b = [4,5,6]\n",
    "\n",
    "print(a+b)\n",
    "print(a*3)"
   ]
  },
  {
   "cell_type": "code",
   "execution_count": 37,
   "metadata": {},
   "outputs": [
    {
     "name": "stdout",
     "output_type": "stream",
     "text": [
      "['a', 'b', 'c', 'd']\n",
      "['a', 'aa', 'b', 'c', 'd']\n"
     ]
    }
   ],
   "source": [
    "# 리스트 원소 추가\n",
    "a = ['a','b','c']\n",
    "\n",
    "a.append('d') # 무조건 맨 뒤에 삽입\n",
    "print(a)\n",
    "\n",
    "a.insert(1,'aa') # 인덱스 위치에 삽입\n",
    "print(a)"
   ]
  },
  {
   "cell_type": "code",
   "execution_count": 39,
   "metadata": {},
   "outputs": [
    {
     "name": "stdout",
     "output_type": "stream",
     "text": [
      "['a', 'b', 'c']\n",
      "['a', 'b', 'f']\n"
     ]
    }
   ],
   "source": [
    "# 리스트 원소 삭제\n",
    "a = ['a','b','c']\n",
    "print(a)\n",
    "a[2]='f'\n",
    "print(a)"
   ]
  },
  {
   "cell_type": "code",
   "execution_count": 42,
   "metadata": {},
   "outputs": [
    {
     "name": "stdout",
     "output_type": "stream",
     "text": [
      "['a', 'b', 'c']\n",
      "['a', 'c']\n"
     ]
    }
   ],
   "source": [
    "a = ['a','b','c']\n",
    "print(a)\n",
    "del a[1]\n",
    "print(a)"
   ]
  },
  {
   "cell_type": "code",
   "execution_count": 43,
   "metadata": {},
   "outputs": [],
   "source": [
    "# 기타 리스트 함수\n",
    "# index(x) : 원소 x가 위치한 인덱스 값 반환\n",
    "# sort(x) : 리스트의 원소를 순서대로 정렬\n",
    "# reverse(x): 리스트의 원소 순서를 역순으로 배열\n",
    "# count(x) : 리스트에 포함된 x값을 데이터의 개수를 반환 \n",
    "# remove(x) : 리스트에서 첫 번째로 나오는 x값 데이터를 삭제\n"
   ]
  },
  {
   "cell_type": "code",
   "execution_count": 44,
   "metadata": {},
   "outputs": [
    {
     "name": "stdout",
     "output_type": "stream",
     "text": [
      "['e', 'd', 'c', 'b', 'a']\n",
      "3\n",
      "['a', 'b', 'c', 'd', 'e']\n",
      "1\n"
     ]
    }
   ],
   "source": [
    "a = ['a','b','c','d','e']\n",
    "a.reverse()\n",
    "print(a)\n",
    "print(a.index('b'))\n",
    "a.sort()\n",
    "print(a)\n",
    "print(a.index('b'))"
   ]
  },
  {
   "cell_type": "code",
   "execution_count": 45,
   "metadata": {},
   "outputs": [
    {
     "name": "stdout",
     "output_type": "stream",
     "text": [
      "2\n",
      "[10, 20, 40, 30, 20, 50]\n"
     ]
    }
   ],
   "source": [
    "a = [10,20,30,40,30,20,50]\n",
    "print(a.count(30))\n",
    "a.remove(30)\n",
    "print(a)"
   ]
  },
  {
   "cell_type": "code",
   "execution_count": 50,
   "metadata": {},
   "outputs": [
    {
     "name": "stdout",
     "output_type": "stream",
     "text": [
      "a b c "
     ]
    }
   ],
   "source": [
    "# 반복문 리스트 활용\n",
    "a = ['a','b','c']\n",
    "for x in a:\n",
    "    print(x,end=' ')"
   ]
  },
  {
   "cell_type": "code",
   "execution_count": 51,
   "metadata": {},
   "outputs": [
    {
     "name": "stdout",
     "output_type": "stream",
     "text": [
      "a b c "
     ]
    }
   ],
   "source": [
    "a = ['a','b','c']\n",
    "i = 0\n",
    "while i<len(a):\n",
    "    print(a[i],end=' ')\n",
    "    i = i+1"
   ]
  },
  {
   "cell_type": "code",
   "execution_count": 52,
   "metadata": {},
   "outputs": [
    {
     "name": "stdout",
     "output_type": "stream",
     "text": [
      "70\n",
      "75\n",
      "100\n"
     ]
    }
   ],
   "source": [
    "# 2차원 리스트\n",
    "scores = [[70,75],[80,90],[100,90],[95,85],[82,92]]\n",
    "print(scores[0][0])\n",
    "print(scores[0][1])\n",
    "print(scores[2][0])"
   ]
  },
  {
   "cell_type": "code",
   "execution_count": 53,
   "metadata": {},
   "outputs": [
    {
     "name": "stdout",
     "output_type": "stream",
     "text": [
      "a\n",
      "('c', 'd', 'e')\n",
      "('a', 'b', 'c', 'd', 'e', 'a', 'b', 'c', 'd', 'e')\n",
      "5\n"
     ]
    }
   ],
   "source": [
    "# 튜플,딕셔너리\n",
    "t = ('a','b','c','d','e')\n",
    "print(t[0])\n",
    "print(t[2: ])\n",
    "print(t*2)\n",
    "print(len(t))"
   ]
  },
  {
   "cell_type": "code",
   "execution_count": 55,
   "metadata": {},
   "outputs": [
    {
     "name": "stdout",
     "output_type": "stream",
     "text": [
      "{1: 'a', 2: 'b', 3: 'c'}\n",
      "{'name': 'python', 'age': 30, 'job': 'programming'}\n",
      "a\n",
      "python\n"
     ]
    }
   ],
   "source": [
    "dic1 = {1:'a',2:'b',3:'c'}\n",
    "dic2 = {'name':'python','age':30,'job':'programming'}\n",
    "\n",
    "print(dic1)\n",
    "print(dic2)\n",
    "print(dic1[1])\n",
    "print(dic2['name'])"
   ]
  },
  {
   "cell_type": "code",
   "execution_count": 56,
   "metadata": {},
   "outputs": [
    {
     "name": "stdout",
     "output_type": "stream",
     "text": [
      "{1: 'a', 2: 'b', 3: 'c', 5: 'f'}\n",
      "{'name': 'python', 'age': 30, 'job': 'programming', 'contact': 'python.org'}\n"
     ]
    }
   ],
   "source": [
    "dic1 = {1:'a',2:'b',3:'c'}\n",
    "dic2 = {'name':'python','age':30,'job':'programming'}\n",
    "\n",
    "dic1[5] = 'f'\n",
    "print(dic1)\n",
    "\n",
    "dic2['contact'] = 'python.org'\n",
    "print(dic2)"
   ]
  },
  {
   "cell_type": "code",
   "execution_count": 57,
   "metadata": {},
   "outputs": [
    {
     "name": "stdout",
     "output_type": "stream",
     "text": [
      "dict_keys([1, 2, 3])\n",
      "dict_values(['python', 30, 'programming'])\n",
      "dict_items([(1, 'a'), (2, 'b'), (3, 'c')])\n",
      "30\n"
     ]
    }
   ],
   "source": [
    "dic1 = {1:'a',2:'b',3:'c'}\n",
    "dic2 = {'name':'python','age':30,'job':'programming'}\n",
    "\n",
    "print(dic1.keys())\n",
    "print(dic2.values())\n",
    "print(dic1.items())\n",
    "\n",
    "if 'age' in dic2: # key에 age가 존재하면 해당하는 value 출력\n",
    "    print(dic2.get('age'))"
   ]
  },
  {
   "cell_type": "code",
   "execution_count": 58,
   "metadata": {},
   "outputs": [
    {
     "name": "stdout",
     "output_type": "stream",
     "text": [
      "아이디와 비밀번호가 맞습니다\n"
     ]
    }
   ],
   "source": [
    "id_pass = {'cuk':'12ab','python':'11aa','bigdata':'cc21'}\n",
    "\n",
    "id = input('사용자 아이디를 입력해주세요 : ')\n",
    "password = input('비밀번호를 입력하세요 : ')\n",
    "\n",
    "if id in id_pass:\n",
    "    if password == id_pass.get(id):\n",
    "        print('아이디와 비밀번호가 맞습니다')\n",
    "\n",
    "    else:\n",
    "        print('비밀번호가 틀렸습니다')\n",
    "else:\n",
    "    print('아이디가 존재하지 않습니다')"
   ]
  },
  {
   "cell_type": "markdown",
   "metadata": {},
   "source": [
    "## 함수와 라이브러리"
   ]
  },
  {
   "cell_type": "code",
   "execution_count": 60,
   "metadata": {},
   "outputs": [
    {
     "name": "stdout",
     "output_type": "stream",
     "text": [
      "60은 짝수입니다.\n"
     ]
    }
   ],
   "source": [
    "# 함수 정의와 호출\n",
    "def f1(x):\n",
    "    if x % 2 ==0:\n",
    "        return('짝수')\n",
    "    else:\n",
    "        return('홀수')\n",
    "    \n",
    "x = int(input('숫자를 입력하세요: '))\n",
    "print('%d은 %s입니다.' %(x,f1(x)))"
   ]
  },
  {
   "cell_type": "code",
   "execution_count": 61,
   "metadata": {},
   "outputs": [
    {
     "name": "stdout",
     "output_type": "stream",
     "text": [
      "두 수의 곱은 2527200입니다\n"
     ]
    }
   ],
   "source": [
    "def f2(x,y):\n",
    "    mul  = x*y\n",
    "    return mul\n",
    "\n",
    "x = int(input('첫 번째 숫자를 입력하세요: '))\n",
    "y = int(input('두 번째 숫자를 입력하세요: '))\n",
    "print('두 수의 곱은 %d입니다' %f2(x,y))"
   ]
  },
  {
   "cell_type": "code",
   "execution_count": 62,
   "metadata": {},
   "outputs": [
    {
     "name": "stdout",
     "output_type": "stream",
     "text": [
      "Package                            Version\n",
      "---------------------------------- --------------------\n",
      "absl-py                            2.0.0\n",
      "aiodns                             3.1.1\n",
      "aiohttp                            3.9.1\n",
      "aiosignal                          1.3.1\n",
      "alabaster                          0.7.12\n",
      "altgraph                           0.17.4\n",
      "anaconda-anon-usage                0.4.3\n",
      "anaconda-client                    1.12.2\n",
      "anaconda-cloud-auth                0.1.4\n",
      "anaconda-navigator                 2.5.1\n",
      "anaconda-project                   0.10.1\n",
      "ansi2html                          1.8.0\n",
      "anyio                              3.5.0\n",
      "appdirs                            1.4.4\n",
      "archspec                           0.2.1\n",
      "argh                               0.26.2\n",
      "argon2-cffi                        21.3.0\n",
      "argon2-cffi-bindings               21.2.0\n",
      "arrow                              0.13.1\n",
      "asn1crypto                         1.4.0\n",
      "astroid                            2.6.6\n",
      "astropy                            4.3.1\n",
      "asttokens                          2.0.5\n",
      "astunparse                         1.6.3\n",
      "async-generator                    1.10\n",
      "async-lru                          2.0.4\n",
      "async-timeout                      4.0.3\n",
      "atomicwrites                       1.4.0\n",
      "attrs                              23.1.0\n",
      "autopep8                           1.5.7\n",
      "Babel                              2.11.0\n",
      "backcall                           0.2.0\n",
      "backports.functools-lru-cache      1.6.4\n",
      "backports.shutil-get-terminal-size 1.0.0\n",
      "backports.tempfile                 1.0\n",
      "backports.weakref                  1.0.post1\n",
      "bcrypt                             3.2.0\n",
      "beautifulsoup4                     4.12.2\n",
      "binaryornot                        0.4.4\n",
      "bitarray                           2.3.0\n",
      "bkcharts                           0.2\n",
      "black                              19.10b0\n",
      "bleach                             4.1.0\n",
      "bokeh                              2.4.1\n",
      "boltons                            23.0.0\n",
      "boto                               2.49.0\n",
      "Bottleneck                         1.3.2\n",
      "branca                             0.6.0\n",
      "Brotli                             1.0.9\n",
      "brotlipy                           0.7.0\n",
      "cached-property                    1.5.2\n",
      "cachetools                         5.3.2\n",
      "ccxt                               4.2.6\n",
      "certifi                            2024.8.30\n",
      "cffi                               1.16.0\n",
      "chardet                            4.0.0\n",
      "charset-normalizer                 2.0.4\n",
      "click                              8.1.7\n",
      "cloudpickle                        2.2.1\n",
      "clyent                             1.2.2\n",
      "colorama                           0.4.6\n",
      "comm                               0.1.2\n",
      "comtypes                           1.1.10\n",
      "conda                              23.11.0\n",
      "conda-build                        3.28.2\n",
      "conda-content-trust                0.2.0\n",
      "conda_index                        0.3.0\n",
      "conda-libmamba-solver              23.12.0\n",
      "conda-pack                         0.6.0\n",
      "conda-package-handling             2.2.0\n",
      "conda_package_streaming            0.9.0\n",
      "conda-repo-cli                     1.0.4\n",
      "conda-token                        0.4.0\n",
      "conda-verify                       3.4.2\n",
      "contextlib2                        0.6.0.post1\n",
      "cookiecutter                       1.7.2\n",
      "cryptography                       41.0.7\n",
      "cycler                             0.11.0\n",
      "Cython                             0.29.24\n",
      "cytoolz                            0.12.2\n",
      "daal4py                            2021.3.0\n",
      "dash                               2.7.1\n",
      "dash-core-components               2.0.0\n",
      "dash-html-components               2.0.0\n",
      "dash-table                         5.0.0\n",
      "dask                               2.10.1\n",
      "DateTime                           5.4\n",
      "debugpy                            1.6.7\n",
      "decorator                          5.1.1\n",
      "defusedxml                         0.7.1\n",
      "Deprecated                         1.2.14\n",
      "diff-match-patch                   20200713\n",
      "distributed                        2.10.0\n",
      "distro                             1.8.0\n",
      "docutils                           0.17.1\n",
      "entrypoints                        0.3\n",
      "et-xmlfile                         1.1.0\n",
      "exceptiongroup                     1.0.4\n",
      "executing                          0.8.3\n",
      "fastcache                          1.1.0\n",
      "fastjsonschema                     2.16.2\n",
      "filelock                           3.13.1\n",
      "flake8                             3.9.2\n",
      "Flask                              1.1.2\n",
      "flatbuffers                        23.5.26\n",
      "folium                             0.14.0\n",
      "fonttools                          4.25.0\n",
      "frozenlist                         1.4.1\n",
      "fsspec                             2023.10.0\n",
      "future                             0.18.3\n",
      "gast                               0.5.4\n",
      "gevent                             21.8.0\n",
      "glob2                              0.7\n",
      "google-auth                        2.24.0\n",
      "google-auth-oauthlib               1.1.0\n",
      "google-pasta                       0.2.0\n",
      "graphviz                           0.20\n",
      "greenlet                           1.1.1\n",
      "grpcio                             1.59.3\n",
      "h11                                0.13.0\n",
      "h5py                               3.2.1\n",
      "HeapDict                           1.0.1\n",
      "html5lib                           1.1\n",
      "hyperopt                           0.2.7\n",
      "idna                               3.4\n",
      "imagecodecs                        2021.8.26\n",
      "imageio                            2.9.0\n",
      "imagesize                          1.2.0\n",
      "imbalanced-learn                   0.7.0\n",
      "importlib-metadata                 7.0.0\n",
      "inflection                         0.5.1\n",
      "iniconfig                          1.1.1\n",
      "intervaltree                       3.1.0\n",
      "ipykernel                          6.25.0\n",
      "ipython                            8.15.0\n",
      "ipython-genutils                   0.2.0\n",
      "ipywidgets                         8.0.4\n",
      "isort                              5.9.3\n",
      "itsdangerous                       2.0.1\n",
      "jaraco.classes                     3.2.1\n",
      "jdcal                              1.4.1\n",
      "jedi                               0.18.1\n",
      "Jinja2                             3.1.2\n",
      "jinja2-time                        0.2.0\n",
      "joblib                             1.2.0\n",
      "JPype1                             1.4.1\n",
      "json5                              0.9.6\n",
      "jsonpatch                          1.32\n",
      "jsonpointer                        2.1\n",
      "jsonschema                         4.19.2\n",
      "jsonschema-specifications          2023.7.1\n",
      "jupyter                            1.0.0\n",
      "jupyter_client                     8.6.0\n",
      "jupyter-console                    6.4.0\n",
      "jupyter_core                       5.5.0\n",
      "jupyter-dash                       0.4.2\n",
      "jupyter-events                     0.8.0\n",
      "jupyter-lsp                        2.2.0\n",
      "jupyter_server                     2.10.0\n",
      "jupyter_server_terminals           0.4.4\n",
      "jupyterlab                         4.0.8\n",
      "jupyterlab-pygments                0.1.2\n",
      "jupyterlab_server                  2.25.1\n",
      "jupyterlab-widgets                 3.0.9\n",
      "keras                              2.15.0\n",
      "keyring                            23.13.1\n",
      "kiwisolver                         1.4.4\n",
      "konlpy                             0.6.0\n",
      "koreanize-matplotlib               0.1.1\n",
      "lazy-object-proxy                  1.6.0\n",
      "libarchive-c                       2.9\n",
      "libclang                           16.0.6\n",
      "libmambapy                         1.5.6\n",
      "lightgbm                           3.3.5\n",
      "llvmlite                           0.41.1\n",
      "lmdb                               1.4.1\n",
      "locket                             1.0.0\n",
      "lxml                               4.6.3\n",
      "Markdown                           3.5.1\n",
      "MarkupSafe                         2.1.3\n",
      "matplotlib                         3.4.3\n",
      "matplotlib-inline                  0.1.6\n",
      "mccabe                             0.6.1\n",
      "menuinst                           1.4.18\n",
      "mistune                            2.0.4\n",
      "mkl-fft                            1.3.1\n",
      "mkl-random                         1.2.2\n",
      "mkl-service                        2.4.0\n",
      "ml-dtypes                          0.2.0\n",
      "mock                               4.0.3\n",
      "more-itertools                     10.1.0\n",
      "MouseInfo                          0.1.3\n",
      "mpmath                             1.2.1\n",
      "msgpack                            1.0.3\n",
      "multidict                          6.0.4\n",
      "multipledispatch                   0.6.0\n",
      "munkres                            1.1.4\n",
      "mypy-extensions                    0.4.3\n",
      "navigator-updater                  0.2.1\n",
      "nbclassic                          0.2.6\n",
      "nbclient                           0.8.0\n",
      "nbconvert                          7.10.0\n",
      "nbformat                           5.9.2\n",
      "nest-asyncio                       1.5.6\n",
      "networkx                           3.1\n",
      "nltk                               3.6.5\n",
      "nose                               1.3.7\n",
      "notebook                           6.4.5\n",
      "notebook_shim                      0.2.3\n",
      "numba                              0.58.1\n",
      "numexpr                            2.7.3\n",
      "numpy                              1.23.5\n",
      "numpydoc                           1.1.0\n",
      "oauthlib                           3.2.2\n",
      "olefile                            0.46\n",
      "opencv-python                      4.8.1.78\n",
      "openpyxl                           3.0.9\n",
      "opt-einsum                         3.3.0\n",
      "outcome                            1.1.0\n",
      "overrides                          7.4.0\n",
      "packaging                          23.1\n",
      "pandas                             1.5.2\n",
      "pandocfilters                      1.5.0\n",
      "paramiko                           2.7.2\n",
      "parso                              0.8.3\n",
      "partd                              1.4.1\n",
      "path                               16.0.0\n",
      "pathlib2                           2.3.6\n",
      "pathspec                           0.7.0\n",
      "patsy                              0.5.2\n",
      "pefile                             2023.2.7\n",
      "pep8                               1.7.1\n",
      "pexpect                            4.8.0\n",
      "pickleshare                        0.7.5\n",
      "Pillow                             10.0.1\n",
      "pip                                23.3.2\n",
      "pkce                               1.0.3\n",
      "pkginfo                            1.9.6\n",
      "platformdirs                       3.10.0\n",
      "plotly                             5.11.0\n",
      "pluggy                             1.0.0\n",
      "ply                                3.11\n",
      "poyo                               0.5.0\n",
      "prometheus-client                  0.14.1\n",
      "prompt-toolkit                     3.0.43\n",
      "protobuf                           4.23.4\n",
      "psutil                             5.9.0\n",
      "ptyprocess                         0.7.0\n",
      "pure-eval                          0.2.2\n",
      "py                                 1.10.0\n",
      "py4j                               0.10.9.7\n",
      "pyasn1                             0.5.1\n",
      "pyasn1-modules                     0.3.0\n",
      "PyAutoGUI                          0.9.53\n",
      "pycares                            4.4.0\n",
      "pycodestyle                        2.7.0\n",
      "pycosat                            0.6.6\n",
      "pycparser                          2.21\n",
      "pycurl                             7.44.1\n",
      "pydantic                           1.10.12\n",
      "pydataset                          0.2.0\n",
      "pydocstyle                         6.1.1\n",
      "pyerfa                             2.0.0\n",
      "pyflakes                           2.3.1\n",
      "PyGetWindow                        0.0.9\n",
      "Pygments                           2.15.1\n",
      "pyinstaller                        6.3.0\n",
      "pyinstaller-hooks-contrib          2023.12\n",
      "PyJWT                              2.4.0\n",
      "pykrx                              1.0.45\n",
      "pylint                             2.9.6\n",
      "pyls-spyder                        0.4.0\n",
      "PyMsgBox                           1.0.9\n",
      "PyMySQL                            1.0.2\n",
      "PyNaCl                             1.4.0\n",
      "pyodbc                             4.0.0-unsupported\n",
      "pyOpenSSL                          23.2.0\n",
      "pyparsing                          3.0.9\n",
      "pyperclip                          1.8.2\n",
      "PyQt5                              5.15.10\n",
      "PyQt5-sip                          12.13.0\n",
      "pyreadline                         2.1\n",
      "pyreadstat                         1.2.0\n",
      "PyRect                             0.2.0\n",
      "pyrsistent                         0.18.0\n",
      "PyScreeze                          0.1.28\n",
      "PySide2                            5.15.2.1\n",
      "PySocks                            1.7.1\n",
      "pytest                             6.2.4\n",
      "python-dateutil                    2.8.2\n",
      "python-dotenv                      0.21.0\n",
      "python-json-logger                 2.0.7\n",
      "python-lsp-black                   1.0.0\n",
      "python-lsp-jsonrpc                 1.0.0\n",
      "python-lsp-server                  1.2.4\n",
      "python-slugify                     5.0.2\n",
      "pytweening                         1.0.4\n",
      "pytz                               2023.3.post1\n",
      "pyupbit                            0.2.33\n",
      "PyWavelets                         1.1.1\n",
      "pywin32                            305.1\n",
      "pywin32-ctypes                     0.2.2\n",
      "pywinpty                           2.0.10\n",
      "PyYAML                             6.0.1\n",
      "pyzmq                              25.1.0\n",
      "QDarkStyle                         3.0.2\n",
      "qstylizer                          0.1.10\n",
      "QtAwesome                          1.0.2\n",
      "qtconsole                          5.1.1\n",
      "QtPy                               2.4.1\n",
      "referencing                        0.30.2\n",
      "regex                              2021.8.3\n",
      "requests                           2.31.0\n",
      "requests-oauthlib                  1.3.1\n",
      "requests-toolbelt                  1.0.0\n",
      "retrying                           1.3.4\n",
      "rfc3339-validator                  0.1.4\n",
      "rfc3986-validator                  0.1.1\n",
      "rope                               0.19.0\n",
      "rpds-py                            0.10.6\n",
      "rsa                                4.9\n",
      "Rtree                              0.9.7\n",
      "ruamel.yaml                        0.17.21\n",
      "ruamel.yaml.clib                   0.2.6\n",
      "ruamel-yaml-conda                  0.15.100\n",
      "scikit-image                       0.18.3\n",
      "scikit-learn                       1.0.2\n",
      "scikit-learn-intelex               2021.20210714.120553\n",
      "scipy                              1.11.4\n",
      "seaborn                            0.11.2\n",
      "selenium                           4.1.3\n",
      "semver                             2.13.0\n",
      "Send2Trash                         1.8.2\n",
      "setuptools                         68.2.2\n",
      "shiboken2                          5.15.2.1\n",
      "simplegeneric                      0.8.1\n",
      "singledispatch                     3.7.0\n",
      "sip                                6.7.12\n",
      "six                                1.16.0\n",
      "sniffio                            1.2.0\n",
      "snowballstemmer                    2.1.0\n",
      "sortedcollections                  2.1.0\n",
      "sortedcontainers                   2.4.0\n",
      "soupsieve                          2.5\n",
      "Sphinx                             4.2.0\n",
      "sphinxcontrib-applehelp            1.0.2\n",
      "sphinxcontrib-devhelp              1.0.2\n",
      "sphinxcontrib-htmlhelp             2.0.0\n",
      "sphinxcontrib-jsmath               1.0.1\n",
      "sphinxcontrib-qthelp               1.0.3\n",
      "sphinxcontrib-serializinghtml      1.1.5\n",
      "sphinxcontrib-websupport           1.2.4\n",
      "spyder                             5.1.5\n",
      "spyder-kernels                     2.1.3\n",
      "SQLAlchemy                         1.4.22\n",
      "SQLAlchemy-Utils                   0.41.2\n",
      "stack-data                         0.2.0\n",
      "statsmodels                        0.12.2\n",
      "sympy                              1.9\n",
      "tables                             3.6.1\n",
      "TBB                                0.2\n",
      "tblib                              1.7.0\n",
      "tenacity                           8.1.0\n",
      "tensorboard                        2.15.1\n",
      "tensorboard-data-server            0.7.2\n",
      "tensorflow                         2.15.0\n",
      "tensorflow-estimator               2.15.0\n",
      "tensorflow-hub                     0.15.0\n",
      "tensorflow-intel                   2.15.0\n",
      "tensorflow-io-gcs-filesystem       0.31.0\n",
      "termcolor                          2.4.0\n",
      "terminado                          0.17.1\n",
      "testpath                           0.5.0\n",
      "text-unidecode                     1.3\n",
      "textdistance                       4.2.1\n",
      "threadpoolctl                      2.2.0\n",
      "three-merge                        0.1.1\n",
      "tifffile                           2021.7.2\n",
      "tinycss                            0.4\n",
      "tinycss2                           1.2.1\n",
      "toml                               0.10.2\n",
      "tomli                              2.0.1\n",
      "toolz                              0.12.0\n",
      "tornado                            6.3.3\n",
      "tqdm                               4.65.0\n",
      "traitlets                          5.7.1\n",
      "trio                               0.20.0\n",
      "trio-websocket                     0.9.2\n",
      "typed-ast                          1.4.3\n",
      "typing_extensions                  4.7.1\n",
      "ujson                              5.4.0\n",
      "unicodecsv                         0.14.1\n",
      "Unidecode                          1.2.0\n",
      "urllib3                            1.26.18\n",
      "watchdog                           2.1.3\n",
      "wcwidth                            0.2.5\n",
      "webdriver-manager                  4.0.2\n",
      "webencodings                       0.5.1\n",
      "websocket-client                   0.58.0\n",
      "websockets                         12.0\n",
      "Werkzeug                           2.0.2\n",
      "wheel                              0.41.2\n",
      "whichcraft                         0.6.1\n",
      "widgetsnbextension                 4.0.5\n",
      "win-inet-pton                      1.1.0\n",
      "win-unicode-console                0.5\n",
      "wincertstore                       0.2\n",
      "wordcloud                          1.8.2.2\n",
      "wrapt                              1.12.1\n",
      "wsproto                            1.1.0\n",
      "xlrd                               2.0.1\n",
      "XlsxWriter                         3.0.1\n",
      "xlwings                            0.24.9\n",
      "xlwt                               1.3.0\n",
      "xmltodict                          0.12.0\n",
      "yapf                               0.31.0\n",
      "yarl                               1.9.4\n",
      "zict                               3.0.0\n",
      "zipp                               3.17.0\n",
      "zope.event                         4.5.0\n",
      "zope.interface                     5.4.0\n",
      "zstandard                          0.19.0\n"
     ]
    },
    {
     "name": "stderr",
     "output_type": "stream",
     "text": [
      "\n",
      "[notice] A new release of pip is available: 23.3.2 -> 24.2\n",
      "[notice] To update, run: python.exe -m pip install --upgrade pip\n"
     ]
    }
   ],
   "source": [
    "# 모듈 패키지\n",
    "# 패키지 확인\n",
    "!pip list"
   ]
  },
  {
   "cell_type": "code",
   "execution_count": null,
   "metadata": {},
   "outputs": [],
   "source": []
  }
 ],
 "metadata": {
  "kernelspec": {
   "display_name": "base",
   "language": "python",
   "name": "python3"
  },
  "language_info": {
   "codemirror_mode": {
    "name": "ipython",
    "version": 3
   },
   "file_extension": ".py",
   "mimetype": "text/x-python",
   "name": "python",
   "nbconvert_exporter": "python",
   "pygments_lexer": "ipython3",
   "version": "3.9.18"
  }
 },
 "nbformat": 4,
 "nbformat_minor": 2
}
