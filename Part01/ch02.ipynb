{
 "cells": [
  {
   "cell_type": "markdown",
   "metadata": {},
   "source": [
    "# 파이썬으로 데이터 다루기\n"
   ]
  },
  {
   "cell_type": "markdown",
   "metadata": {},
   "source": [
    "## 넘파이"
   ]
  },
  {
   "cell_type": "code",
   "execution_count": 2,
   "metadata": {},
   "outputs": [
    {
     "name": "stdout",
     "output_type": "stream",
     "text": [
      "[1 2 3 4 5]\n",
      "[[1 2 3]\n",
      " [4 5 6]]\n"
     ]
    }
   ],
   "source": [
    "import numpy as np\n",
    "ar1 = np.array([1,2,3,4,5])\n",
    "ar2 = np.array([[1,2,3],[4,5,6]])\n",
    "print(ar1)\n",
    "print(ar2)"
   ]
  },
  {
   "cell_type": "code",
   "execution_count": 3,
   "metadata": {},
   "outputs": [
    {
     "name": "stdout",
     "output_type": "stream",
     "text": [
      "[-0.79601899 -0.191567   -0.7148941 ]\n",
      "[[-2.34568823 -1.90696752  0.67711482]\n",
      " [ 0.79373159 -0.1086978   0.95297495]]\n"
     ]
    }
   ],
   "source": [
    "ar3 = np.random.randn(3)\n",
    "ar4 = np.random.randn(2,3)\n",
    "print(ar3)\n",
    "print(ar4)"
   ]
  },
  {
   "cell_type": "code",
   "execution_count": 4,
   "metadata": {},
   "outputs": [
    {
     "name": "stdout",
     "output_type": "stream",
     "text": [
      "[0. 0. 0. 0. 0.]\n",
      "[[1. 1. 1.]\n",
      " [1. 1. 1.]]\n"
     ]
    }
   ],
   "source": [
    "ar5 = np.zeros(5)\n",
    "ar6 = np.ones((2,3))\n",
    "print(ar5)\n",
    "print(ar6)"
   ]
  },
  {
   "cell_type": "code",
   "execution_count": 5,
   "metadata": {},
   "outputs": [
    {
     "name": "stdout",
     "output_type": "stream",
     "text": [
      "[ 20  30  40  50  60  70  80  90 100 110 120 130 140 150 160 170 180 190]\n",
      "[[ 20  30  40  50  60  70]\n",
      " [ 80  90 100 110 120 130]\n",
      " [140 150 160 170 180 190]]\n"
     ]
    }
   ],
   "source": [
    "ar7 = np.arange(20,200,10)\n",
    "ar8 = ar7.reshape(3,6)\n",
    "print(ar7)\n",
    "print(ar8)"
   ]
  },
  {
   "cell_type": "code",
   "execution_count": 7,
   "metadata": {},
   "outputs": [
    {
     "name": "stdout",
     "output_type": "stream",
     "text": [
      "[ 1  2  3  4  5  6  7  8  9 10 11 12 13 14 15 16 17 18 19 20]\n",
      "2\n",
      "[[ 1  2  3  4  5  6  7  8  9 10]\n",
      " [11 12 13 14 15 16 17 18 19 20]]\n",
      "11 100 13\n"
     ]
    }
   ],
   "source": [
    "ar1 = np.arange(1,21,1)\n",
    "print(ar1)\n",
    "print(ar1[1])\n",
    "\n",
    "ar2 = ar1.reshape(2,10)\n",
    "print(ar2)\n",
    "ar2[1][1] = 100\n",
    "print(ar2[1][0],ar2[1][1],ar2[1][2])"
   ]
  },
  {
   "cell_type": "code",
   "execution_count": 8,
   "metadata": {},
   "outputs": [
    {
     "name": "stdout",
     "output_type": "stream",
     "text": [
      "[ 1  2  3  4  5  6  7  8  9 10]\n",
      "[ 4  5  6  7  8  9 10 11 12 13] \n",
      " [ 2  4  6  8 10 12 14 16 18 20]\n"
     ]
    }
   ],
   "source": [
    "ar1 = np.arange(1,11,1)\n",
    "ar2 = ar1+3\n",
    "ar3 = ar1*2\n",
    "print(ar1)\n",
    "print(ar2,'\\n',ar3) "
   ]
  },
  {
   "cell_type": "code",
   "execution_count": 9,
   "metadata": {},
   "outputs": [
    {
     "name": "stdout",
     "output_type": "stream",
     "text": [
      "[[ 5  7  9]\n",
      " [-7 -6 19]\n",
      " [ 6  9 11]]\n",
      "53\n",
      "5.888888888888889\n",
      "19\n",
      "-7\n",
      "[ 6  9 19]\n",
      "[ 9 19 11]\n"
     ]
    }
   ],
   "source": [
    "ar1 = np.array([[5,7,9],[-7,-6,19],[6,9,11]])\n",
    "print(ar1)\n",
    "print(ar1.sum())\n",
    "print(ar1.mean())\n",
    "print(ar1.max())\n",
    "print(ar1.min())\n",
    "print(ar1.max(axis=0)) # 각 열의 원소 중 가장 큰 값\n",
    "print(ar1.max(axis=1)) # 각 행의 원소 중 가장 큰 값"
   ]
  },
  {
   "cell_type": "code",
   "execution_count": null,
   "metadata": {},
   "outputs": [],
   "source": []
  }
 ],
 "metadata": {
  "kernelspec": {
   "display_name": "base",
   "language": "python",
   "name": "python3"
  },
  "language_info": {
   "codemirror_mode": {
    "name": "ipython",
    "version": 3
   },
   "file_extension": ".py",
   "mimetype": "text/x-python",
   "name": "python",
   "nbconvert_exporter": "python",
   "pygments_lexer": "ipython3",
   "version": "3.9.18"
  }
 },
 "nbformat": 4,
 "nbformat_minor": 2
}
