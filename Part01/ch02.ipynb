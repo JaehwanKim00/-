{
 "cells": [
  {
   "cell_type": "markdown",
   "metadata": {},
   "source": [
    "# 파이썬으로 데이터 다루기\n"
   ]
  },
  {
   "cell_type": "markdown",
   "metadata": {},
   "source": [
    "## NumPy"
   ]
  },
  {
   "cell_type": "code",
   "execution_count": 3,
   "metadata": {},
   "outputs": [
    {
     "name": "stdout",
     "output_type": "stream",
     "text": [
      "[1 2 3 4 5]\n",
      "[[1 2 3]\n",
      " [4 5 6]]\n"
     ]
    }
   ],
   "source": [
    "import numpy as np\n",
    "ar1 = np.array([1,2,3,4,5])\n",
    "ar2 = np.array([[1,2,3],[4,5,6]])\n",
    "print(ar1)\n",
    "print(ar2)"
   ]
  },
  {
   "cell_type": "code",
   "execution_count": 3,
   "metadata": {},
   "outputs": [
    {
     "name": "stdout",
     "output_type": "stream",
     "text": [
      "[-0.79601899 -0.191567   -0.7148941 ]\n",
      "[[-2.34568823 -1.90696752  0.67711482]\n",
      " [ 0.79373159 -0.1086978   0.95297495]]\n"
     ]
    }
   ],
   "source": [
    "ar3 = np.random.randn(3)\n",
    "ar4 = np.random.randn(2,3)\n",
    "print(ar3)\n",
    "print(ar4)"
   ]
  },
  {
   "cell_type": "code",
   "execution_count": 4,
   "metadata": {},
   "outputs": [
    {
     "name": "stdout",
     "output_type": "stream",
     "text": [
      "[0. 0. 0. 0. 0.]\n",
      "[[1. 1. 1.]\n",
      " [1. 1. 1.]]\n"
     ]
    }
   ],
   "source": [
    "ar5 = np.zeros(5)\n",
    "ar6 = np.ones((2,3))\n",
    "print(ar5)\n",
    "print(ar6)"
   ]
  },
  {
   "cell_type": "code",
   "execution_count": 5,
   "metadata": {},
   "outputs": [
    {
     "name": "stdout",
     "output_type": "stream",
     "text": [
      "[ 20  30  40  50  60  70  80  90 100 110 120 130 140 150 160 170 180 190]\n",
      "[[ 20  30  40  50  60  70]\n",
      " [ 80  90 100 110 120 130]\n",
      " [140 150 160 170 180 190]]\n"
     ]
    }
   ],
   "source": [
    "ar7 = np.arange(20,200,10)\n",
    "ar8 = ar7.reshape(3,6)\n",
    "print(ar7)\n",
    "print(ar8)"
   ]
  },
  {
   "cell_type": "code",
   "execution_count": 7,
   "metadata": {},
   "outputs": [
    {
     "name": "stdout",
     "output_type": "stream",
     "text": [
      "[ 1  2  3  4  5  6  7  8  9 10 11 12 13 14 15 16 17 18 19 20]\n",
      "2\n",
      "[[ 1  2  3  4  5  6  7  8  9 10]\n",
      " [11 12 13 14 15 16 17 18 19 20]]\n",
      "11 100 13\n"
     ]
    }
   ],
   "source": [
    "ar1 = np.arange(1,21,1)\n",
    "print(ar1)\n",
    "print(ar1[1])\n",
    "\n",
    "ar2 = ar1.reshape(2,10)\n",
    "print(ar2)\n",
    "ar2[1][1] = 100\n",
    "print(ar2[1][0],ar2[1][1],ar2[1][2])"
   ]
  },
  {
   "cell_type": "code",
   "execution_count": 8,
   "metadata": {},
   "outputs": [
    {
     "name": "stdout",
     "output_type": "stream",
     "text": [
      "[ 1  2  3  4  5  6  7  8  9 10]\n",
      "[ 4  5  6  7  8  9 10 11 12 13] \n",
      " [ 2  4  6  8 10 12 14 16 18 20]\n"
     ]
    }
   ],
   "source": [
    "ar1 = np.arange(1,11,1)\n",
    "ar2 = ar1+3\n",
    "ar3 = ar1*2\n",
    "print(ar1)\n",
    "print(ar2,'\\n',ar3) "
   ]
  },
  {
   "cell_type": "code",
   "execution_count": 9,
   "metadata": {},
   "outputs": [
    {
     "name": "stdout",
     "output_type": "stream",
     "text": [
      "[[ 5  7  9]\n",
      " [-7 -6 19]\n",
      " [ 6  9 11]]\n",
      "53\n",
      "5.888888888888889\n",
      "19\n",
      "-7\n",
      "[ 6  9 19]\n",
      "[ 9 19 11]\n"
     ]
    }
   ],
   "source": [
    "ar1 = np.array([[5,7,9],[-7,-6,19],[6,9,11]])\n",
    "print(ar1)\n",
    "print(ar1.sum())\n",
    "print(ar1.mean())\n",
    "print(ar1.max())\n",
    "print(ar1.min())\n",
    "print(ar1.max(axis=0)) # 각 열의 원소 중 가장 큰 값\n",
    "print(ar1.max(axis=1)) # 각 행의 원소 중 가장 큰 값"
   ]
  },
  {
   "cell_type": "code",
   "execution_count": 5,
   "metadata": {},
   "outputs": [
    {
     "name": "stdout",
     "output_type": "stream",
     "text": [
      "[[ True  True  True]\n",
      " [False False  True]\n",
      " [ True  True  True]]\n",
      "2\n",
      "[[ 5  7  9]\n",
      " [ 0  0 19]\n",
      " [ 6  9 11]]\n"
     ]
    }
   ],
   "source": [
    "# 조건식 사용한 연산\n",
    "ar1 = np.array([[5,7,9],[-7,-6,19],[6,9,11]])\n",
    "print(ar1>0)\n",
    "m_count = (ar1<0).sum() # 0보다 작은 원소 count\n",
    "print(m_count)\n",
    "\n",
    "ar2 = np.where(ar1<0,0,ar1) # 0보다 작으면 0 대입\n",
    "print(ar2)"
   ]
  },
  {
   "cell_type": "code",
   "execution_count": 7,
   "metadata": {},
   "outputs": [
    {
     "name": "stdout",
     "output_type": "stream",
     "text": [
      "[[ 5  7  9]\n",
      " [-3 -6 19]\n",
      " [ 6  4 11]]\n",
      "[[-3 -6  9]\n",
      " [ 5  4 11]\n",
      " [ 6  7 19]]\n",
      "[[-6 -3  9]\n",
      " [ 4  5 11]\n",
      " [ 6  7 19]]\n"
     ]
    }
   ],
   "source": [
    "# 배열의 정렬\n",
    "ar1 = np.array([[5,7,9],[-3,-6,19],[6,4,11]])\n",
    "print(ar1)\n",
    "ar1.sort(0) # 열단위로 원소 정렬\n",
    "print(ar1)\n",
    "ar1.sort(1) # 행단위로 원소 정렬(열단위로 정렬 반영 후 행단위 정렬)\n",
    "print(ar1)"
   ]
  },
  {
   "cell_type": "code",
   "execution_count": 8,
   "metadata": {},
   "outputs": [
    {
     "name": "stdout",
     "output_type": "stream",
     "text": [
      "[[ 5  7  9]\n",
      " [-3 -6 19]\n",
      " [ 6  4 11]]\n",
      "[[ 5  7  9]\n",
      " [-6 -3 19]\n",
      " [ 4  6 11]]\n"
     ]
    }
   ],
   "source": [
    "ar1 = np.array([[5,7,9],[-3,-6,19],[6,4,11]])\n",
    "print(ar1)\n",
    "ar1.sort(1) # 행단위로 원소 정렬\n",
    "print(ar1)"
   ]
  },
  {
   "cell_type": "markdown",
   "metadata": {},
   "source": [
    "## Pandas"
   ]
  },
  {
   "cell_type": "code",
   "execution_count": 9,
   "metadata": {},
   "outputs": [],
   "source": [
    "import pandas as pd"
   ]
  },
  {
   "cell_type": "code",
   "execution_count": 10,
   "metadata": {},
   "outputs": [
    {
     "name": "stdout",
     "output_type": "stream",
     "text": [
      "0    10\n",
      "1    20\n",
      "2    30\n",
      "3    40\n",
      "4    60\n",
      "dtype: int64\n"
     ]
    }
   ],
   "source": [
    "sr1 = pd.Series([10,20,30,40,60])\n",
    "print(sr1)"
   ]
  },
  {
   "cell_type": "code",
   "execution_count": 11,
   "metadata": {},
   "outputs": [
    {
     "name": "stdout",
     "output_type": "stream",
     "text": [
      "[10 20 30 40 60]\n",
      "RangeIndex(start=0, stop=5, step=1)\n",
      "30\n"
     ]
    }
   ],
   "source": [
    "sr1 = pd.Series([10,20,30,40,60])\n",
    "print(sr1.values)\n",
    "print(sr1.index)\n",
    "print(sr1[2])"
   ]
  },
  {
   "cell_type": "code",
   "execution_count": 12,
   "metadata": {},
   "outputs": [
    {
     "name": "stdout",
     "output_type": "stream",
     "text": [
      "30\n",
      "30\n"
     ]
    }
   ],
   "source": [
    "sr1 = pd.Series([10,30,40,20,60],index = ['a','b','c','d','e']) # 인덱스 설정\n",
    "print(sr1[1])\n",
    "print(sr1['b'])"
   ]
  },
  {
   "cell_type": "code",
   "execution_count": 14,
   "metadata": {},
   "outputs": [
    {
     "name": "stdout",
     "output_type": "stream",
     "text": [
      "b    20\n",
      "c    30\n",
      "dtype: int64\n",
      "a    10\n",
      "c    30\n",
      "dtype: int64\n"
     ]
    }
   ],
   "source": [
    "sr1 = pd.Series([10,20,30,40,60],index = ['a','b','c','d','e'])\n",
    "print(sr1[[1,2]])\n",
    "print(sr1[['a','c']])"
   ]
  },
  {
   "cell_type": "code",
   "execution_count": 15,
   "metadata": {},
   "outputs": [
    {
     "name": "stdout",
     "output_type": "stream",
     "text": [
      "b    20\n",
      "c    30\n",
      "d    40\n",
      "dtype: int64\n",
      "b    20\n",
      "c    30\n",
      "d    40\n",
      "dtype: int64\n"
     ]
    }
   ],
   "source": [
    "# 범위 설정\n",
    "sr1 = pd.Series([10,20,30,40,60],index = ['a','b','c','d','e'])\n",
    "print(sr1[1:4]) # 4 부분 포함 안 됨\n",
    "print(sr1['b':'d']) # d 부분 포함됨"
   ]
  },
  {
   "cell_type": "code",
   "execution_count": 17,
   "metadata": {},
   "outputs": [],
   "source": [
    "# 오류\n",
    "# print(sr1[[1:4]])"
   ]
  },
  {
   "cell_type": "code",
   "execution_count": 19,
   "metadata": {},
   "outputs": [
    {
     "data": {
      "text/html": [
       "<div>\n",
       "<style scoped>\n",
       "    .dataframe tbody tr th:only-of-type {\n",
       "        vertical-align: middle;\n",
       "    }\n",
       "\n",
       "    .dataframe tbody tr th {\n",
       "        vertical-align: top;\n",
       "    }\n",
       "\n",
       "    .dataframe thead th {\n",
       "        text-align: right;\n",
       "    }\n",
       "</style>\n",
       "<table border=\"1\" class=\"dataframe\">\n",
       "  <thead>\n",
       "    <tr style=\"text-align: right;\">\n",
       "      <th></th>\n",
       "      <th>0</th>\n",
       "      <th>1</th>\n",
       "      <th>2</th>\n",
       "    </tr>\n",
       "  </thead>\n",
       "  <tbody>\n",
       "    <tr>\n",
       "      <th>0</th>\n",
       "      <td>10</td>\n",
       "      <td>20</td>\n",
       "      <td>30</td>\n",
       "    </tr>\n",
       "    <tr>\n",
       "      <th>1</th>\n",
       "      <td>50</td>\n",
       "      <td>60</td>\n",
       "      <td>70</td>\n",
       "    </tr>\n",
       "  </tbody>\n",
       "</table>\n",
       "</div>"
      ],
      "text/plain": [
       "    0   1   2\n",
       "0  10  20  30\n",
       "1  50  60  70"
      ]
     },
     "execution_count": 19,
     "metadata": {},
     "output_type": "execute_result"
    }
   ],
   "source": [
    "import pandas as pd\n",
    "df1 = pd.DataFrame([[10,20,30],[50,60,70]])\n",
    "df1"
   ]
  },
  {
   "cell_type": "code",
   "execution_count": 21,
   "metadata": {},
   "outputs": [
    {
     "data": {
      "text/html": [
       "<div>\n",
       "<style scoped>\n",
       "    .dataframe tbody tr th:only-of-type {\n",
       "        vertical-align: middle;\n",
       "    }\n",
       "\n",
       "    .dataframe tbody tr th {\n",
       "        vertical-align: top;\n",
       "    }\n",
       "\n",
       "    .dataframe thead th {\n",
       "        text-align: right;\n",
       "    }\n",
       "</style>\n",
       "<table border=\"1\" class=\"dataframe\">\n",
       "  <thead>\n",
       "    <tr style=\"text-align: right;\">\n",
       "      <th></th>\n",
       "      <th>fruit</th>\n",
       "      <th>prcie</th>\n",
       "      <th>qty</th>\n",
       "    </tr>\n",
       "  </thead>\n",
       "  <tbody>\n",
       "    <tr>\n",
       "      <th>0</th>\n",
       "      <td>사과</td>\n",
       "      <td>100</td>\n",
       "      <td>10</td>\n",
       "    </tr>\n",
       "    <tr>\n",
       "      <th>1</th>\n",
       "      <td>포도</td>\n",
       "      <td>200</td>\n",
       "      <td>25</td>\n",
       "    </tr>\n",
       "    <tr>\n",
       "      <th>2</th>\n",
       "      <td>바나나</td>\n",
       "      <td>300</td>\n",
       "      <td>60</td>\n",
       "    </tr>\n",
       "    <tr>\n",
       "      <th>3</th>\n",
       "      <td>딸기</td>\n",
       "      <td>400</td>\n",
       "      <td>98</td>\n",
       "    </tr>\n",
       "    <tr>\n",
       "      <th>4</th>\n",
       "      <td>귤</td>\n",
       "      <td>500</td>\n",
       "      <td>54</td>\n",
       "    </tr>\n",
       "  </tbody>\n",
       "</table>\n",
       "</div>"
      ],
      "text/plain": [
       "  fruit  prcie  qty\n",
       "0    사과    100   10\n",
       "1    포도    200   25\n",
       "2   바나나    300   60\n",
       "3    딸기    400   98\n",
       "4     귤    500   54"
      ]
     },
     "execution_count": 21,
     "metadata": {},
     "output_type": "execute_result"
    }
   ],
   "source": [
    "dic1 = {'fruit':['사과','포도','바나나','딸기','귤'],\n",
    "        'prcie':[100,200,300,400,500],\n",
    "        'qty':[10,25,60,98,54]}\n",
    "df1 = pd.DataFrame(dic1)\n",
    "df1"
   ]
  },
  {
   "cell_type": "code",
   "execution_count": 22,
   "metadata": {},
   "outputs": [
    {
     "name": "stdout",
     "output_type": "stream",
     "text": [
      "  fruit  prcie  qty\n",
      "a    사과    100   10\n",
      "b    포도    200   25\n",
      "c   바나나    300   60\n",
      "d    딸기    400   98\n",
      "e     귤    500   54\n"
     ]
    }
   ],
   "source": [
    "df1 = pd.DataFrame(dic1,index = ['a','b','c','d','e'])\n",
    "print(df1)"
   ]
  },
  {
   "cell_type": "code",
   "execution_count": 23,
   "metadata": {},
   "outputs": [
    {
     "name": "stdout",
     "output_type": "stream",
     "text": [
      "     과일  prcie  수량\n",
      "01   사과    100  10\n",
      "02   포도    200  25\n",
      "03  바나나    300  60\n",
      "04   딸기    400  98\n",
      "05    귤    500  54\n"
     ]
    }
   ],
   "source": [
    "df1.rename(columns = {'fruit':'과일','price':'가격','qty':'수량'},inplace=True)\n",
    "df1.rename(index = {'a':'01','b':'02','c':'03','d':'04','e':'05'},inplace=True)\n",
    "print(df1)"
   ]
  },
  {
   "cell_type": "code",
   "execution_count": null,
   "metadata": {},
   "outputs": [],
   "source": []
  }
 ],
 "metadata": {
  "kernelspec": {
   "display_name": "base",
   "language": "python",
   "name": "python3"
  },
  "language_info": {
   "codemirror_mode": {
    "name": "ipython",
    "version": 3
   },
   "file_extension": ".py",
   "mimetype": "text/x-python",
   "name": "python",
   "nbconvert_exporter": "python",
   "pygments_lexer": "ipython3",
   "version": "3.9.18"
  }
 },
 "nbformat": 4,
 "nbformat_minor": 2
}
