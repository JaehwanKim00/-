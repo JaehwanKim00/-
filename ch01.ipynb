{
 "cells": [
  {
   "cell_type": "code",
   "execution_count": 1,
   "metadata": {},
   "outputs": [
    {
     "name": "stdout",
     "output_type": "stream",
     "text": [
      "첫번쨰 파이썬 프로그래밍\n"
     ]
    }
   ],
   "source": [
    "print('첫번쨰 파이썬 프로그래밍')"
   ]
  },
  {
   "cell_type": "markdown",
   "metadata": {},
   "source": [
    "# 변수,데이터 타입, 연산자"
   ]
  },
  {
   "cell_type": "code",
   "execution_count": 2,
   "metadata": {},
   "outputs": [
    {
     "name": "stdout",
     "output_type": "stream",
     "text": [
      "1\n"
     ]
    }
   ],
   "source": [
    "a = 1 \n",
    "print(a)"
   ]
  },
  {
   "cell_type": "code",
   "execution_count": 3,
   "metadata": {},
   "outputs": [
    {
     "name": "stdout",
     "output_type": "stream",
     "text": [
      "5\n"
     ]
    }
   ],
   "source": [
    "b = 5\n",
    "a = b\n",
    "print(a)"
   ]
  },
  {
   "cell_type": "markdown",
   "metadata": {},
   "source": [
    "## 데이터 타입\n",
    "변수에 저장되는 값의 형식을 저장하는 것\\\n",
    "숫자,문자열,리스트,튜플,딕셔너리 형식\\\n",
    "\n",
    "숫자형 : 정수형,실수형\\\n",
    "문자열형 : '첫번째 파이썬 프로그래밍','Hello World','서울'\\\n",
    "리스트형 : [1,2,3,4,5],[10,20,30,40,50]\\\n",
    "튜플형 : (1,2,3,4,5), ('a','b','c'('aa','bb'))\\\n",
    "딕셔너리형 : {'nation':'대한민국','city':'서울','contact':'010-1234-1234'}\\\n",
    "집합형 : {4,5,6},{'a','b','c'}\\\n",
    "논리형 : True,False"
   ]
  },
  {
   "cell_type": "markdown",
   "metadata": {},
   "source": [
    "### 숫자형"
   ]
  },
  {
   "cell_type": "code",
   "execution_count": 4,
   "metadata": {},
   "outputs": [
    {
     "name": "stdout",
     "output_type": "stream",
     "text": [
      "1 5 3.3 0.5\n"
     ]
    }
   ],
   "source": [
    "a = 1\n",
    "b = 5\n",
    "c = 3.3\n",
    "d = 0.5\n",
    "print(a,b,c,d)"
   ]
  },
  {
   "cell_type": "code",
   "execution_count": 5,
   "metadata": {},
   "outputs": [
    {
     "name": "stdout",
     "output_type": "stream",
     "text": [
      "15 5 50 2.0\n",
      "1000 3 1\n"
     ]
    }
   ],
   "source": [
    "a = 10\n",
    "b = 5\n",
    "c = 3\n",
    "print(a+b,a-b,a*b,a/b)\n",
    "print(a**c,a//c,a%c)"
   ]
  },
  {
   "cell_type": "markdown",
   "metadata": {},
   "source": [
    "### 문자열형"
   ]
  },
  {
   "cell_type": "code",
   "execution_count": 7,
   "metadata": {},
   "outputs": [
    {
     "name": "stdout",
     "output_type": "stream",
     "text": [
      "pythonprogramming\n",
      "pythonpython\n"
     ]
    }
   ],
   "source": [
    "str1 = 'python'\n",
    "str2 = 'programming'\n",
    "print(str1+str2) # 단어 합침\n",
    "print(str1*2) # 2번 반복"
   ]
  },
  {
   "cell_type": "code",
   "execution_count": 8,
   "metadata": {},
   "outputs": [
    {
     "name": "stdout",
     "output_type": "stream",
     "text": [
      "p y t\n",
      "pyth\n",
      "n pr\n"
     ]
    }
   ],
   "source": [
    "# 인덱싱,슬라이싱\n",
    "# 인덱스는 0부터 시작\n",
    "# Ex) str[0]은 첫번째 문자,str[1] 두번쨰 문자\n",
    "# 슬라이싱 : 인덱스를 이용해서 문자열 일부 잘라냄\n",
    "\n",
    "str = 'python programming'\n",
    "print(str[0],str[1],str[2])\n",
    "\n",
    "print(str[0:4])\n",
    "\n",
    "print(str[5:9])"
   ]
  },
  {
   "cell_type": "code",
   "execution_count": 9,
   "metadata": {},
   "outputs": [
    {
     "name": "stdout",
     "output_type": "stream",
     "text": [
      "오늘은 13일 입니다\n",
      "오늘은 수요일 입니다\n",
      "지금 온도는 32.700000도 입니다.\n",
      "지금 온도는 32.70도 입니다\n"
     ]
    }
   ],
   "source": [
    "# 문자열 포맷팅\n",
    "print('오늘은 %d일 입니다'%13)\n",
    "print('오늘은 %s 입니다'%'수요일')\n",
    "print('지금 온도는 %f도 입니다.' %32.7)\n",
    "print('지금 온도는 %0.2f도 입니다'%32.7) # 소수점 2번째 자리에서 출력"
   ]
  },
  {
   "cell_type": "code",
   "execution_count": 11,
   "metadata": {},
   "outputs": [],
   "source": [
    "# 문자열 포맷코드\n",
    "# %s : 문자열\n",
    "# %c : 단일 문자\n",
    "# %d : 정수\n",
    "# %f : 실수\n",
    "# %0 : 8진수\n",
    "# %x : 16진수\n",
    "# % 문자 자체를 출력하고 싶을 때는 %%"
   ]
  },
  {
   "cell_type": "code",
   "execution_count": 12,
   "metadata": {},
   "outputs": [
    {
     "name": "stdout",
     "output_type": "stream",
     "text": [
      "파이썬\n",
      " 프로그래밍\n",
      "파이썬\n",
      "프로그래밍\n"
     ]
    }
   ],
   "source": [
    "# 여러 줄인 문자열을 변수에 대입할 때\n",
    "str = '파이썬\\n 프로그래밍'\n",
    "print(str)\n",
    "str1 = \"\"\"파이썬\n",
    "프로그래밍\"\"\"\n",
    "print(str1)"
   ]
  },
  {
   "cell_type": "code",
   "execution_count": 20,
   "metadata": {},
   "outputs": [
    {
     "name": "stdout",
     "output_type": "stream",
     "text": [
      "2\n",
      "p/y/t/h/o/n/ /p/r/o/g/r/a/m/m/i/n/g\n",
      "13\n",
      "PYTHON PROGRAMMING\n",
      "python programming\n",
      "Java Programming\n"
     ]
    },
    {
     "data": {
      "text/plain": [
       "['Python', 'Programming']"
      ]
     },
     "execution_count": 20,
     "metadata": {},
     "output_type": "execute_result"
    }
   ],
   "source": [
    "# 문자열 내장 함수\n",
    "# count() : 문자열 내의 특정 문자 개수 세기\n",
    "str = 'python programming'\n",
    "print(str.count('p'))\n",
    "\n",
    "# join() : 문자열 삽입\n",
    "print(\"/\".join('python programming'))\n",
    "\n",
    "# find() : 찾는 문자열이 처음 나온 위치를 반환\n",
    "str1 = 'python programming'\n",
    "print(str1.find('m'))\n",
    "\n",
    "# upper : 소문자를 대문자로 변환\n",
    "str2 = 'Python Programming'\n",
    "print(str2.upper())\n",
    "\n",
    "# lower : 대문자를 소문자로 변환\n",
    "str3 = 'Python Programming'\n",
    "print(str3.lower())\n",
    "\n",
    "# replace : 문자열 내의 특정 값을 다른 값으로 치환\n",
    "str4 = 'Python Programming'\n",
    "print(str4.replace('Python','Java'))\n",
    "\n",
    "# split : 공백 또는 특정 문자를 구분자로 문자열 분리\n",
    "str5 = 'Python Programming'\n",
    "str5.split() # 공백기준\n",
    "\n"
   ]
  },
  {
   "cell_type": "code",
   "execution_count": 21,
   "metadata": {},
   "outputs": [],
   "source": [
    "# 연산자\n",
    "# // : 몫만 출력\n",
    "# % : 나머지\n",
    "# ** : 거듭제곱"
   ]
  },
  {
   "cell_type": "code",
   "execution_count": 22,
   "metadata": {},
   "outputs": [],
   "source": [
    "# 비교연산자 패스"
   ]
  },
  {
   "cell_type": "code",
   "execution_count": 24,
   "metadata": {},
   "outputs": [],
   "source": [
    "# 논리연산자 패스"
   ]
  },
  {
   "cell_type": "code",
   "execution_count": 25,
   "metadata": {},
   "outputs": [],
   "source": [
    "# 복합대입연산자\n",
    "# += -> a+=10 : a = a+10\n",
    "# -= -> a-=10 : a = a-10\n",
    "# *= -> a*=10 : a = a*10\n",
    "# /= -> a/=10 : a = a/10"
   ]
  },
  {
   "cell_type": "markdown",
   "metadata": {},
   "source": [
    "# 조건문,반복문"
   ]
  },
  {
   "cell_type": "code",
   "execution_count": 26,
   "metadata": {},
   "outputs": [
    {
     "name": "stdout",
     "output_type": "stream",
     "text": [
      "a는 양의 정수\n"
     ]
    }
   ],
   "source": [
    "# 조건문 if\n",
    "a = 10\n",
    "if a>0:\n",
    "    print('a는 양의 정수')"
   ]
  },
  {
   "cell_type": "code",
   "execution_count": 31,
   "metadata": {},
   "outputs": [
    {
     "name": "stdout",
     "output_type": "stream",
     "text": [
      "10\n"
     ]
    }
   ],
   "source": [
    "a=10\n",
    "if a<0:\n",
    "    print('a는 음의 정수')\n",
    "print(a)"
   ]
  },
  {
   "cell_type": "code",
   "execution_count": 32,
   "metadata": {},
   "outputs": [
    {
     "name": "stdout",
     "output_type": "stream",
     "text": [
      "a는 -10입니다\n",
      "a는 음의 정수입니다\n"
     ]
    }
   ],
   "source": [
    "# if,else\n",
    "a=-10\n",
    "if a>0:\n",
    "    print('a는 %d입니다'%a)\n",
    "    print('a는 양의 정수입니다')\n",
    "else:\n",
    "    print('a는 %d입니다'%a)\n",
    "    print('a는 음의 정수입니다')\n"
   ]
  },
  {
   "cell_type": "code",
   "execution_count": 33,
   "metadata": {},
   "outputs": [
    {
     "name": "stdout",
     "output_type": "stream",
     "text": [
      "a는 음의 정수입니다\n"
     ]
    }
   ],
   "source": [
    "# if,elif,else\n",
    "if a>0:\n",
    "    print('a는 양의 정수입니다')\n",
    "elif a==0:\n",
    "    print('a는 0입니다')\n",
    "else:\n",
    "    print('a는 음의 정수입니다')\n"
   ]
  },
  {
   "cell_type": "code",
   "execution_count": 36,
   "metadata": {},
   "outputs": [
    {
     "name": "stdout",
     "output_type": "stream",
     "text": [
      "가장 큰 수는 90\n"
     ]
    }
   ],
   "source": [
    "# 세 수 중 가장 큰 수 찾기\n",
    "a = int(input('첫번째 수를 입력하세요'))\n",
    "b = int(input('두번째 수를 입력하세요'))\n",
    "c = int(input('세번째 수를 입력하세요'))\n",
    "\n",
    "if a>=b:\n",
    "    big = a\n",
    "else : \n",
    "    big = b\n",
    "\n",
    "if c>=big:\n",
    "    print('가장 큰 수는 %d'%c)\n",
    "else:\n",
    "    print('가장 큰 수는 %d'%big)"
   ]
  },
  {
   "cell_type": "code",
   "execution_count": null,
   "metadata": {},
   "outputs": [],
   "source": [
    "# 반복문"
   ]
  }
 ],
 "metadata": {
  "kernelspec": {
   "display_name": "base",
   "language": "python",
   "name": "python3"
  },
  "language_info": {
   "codemirror_mode": {
    "name": "ipython",
    "version": 3
   },
   "file_extension": ".py",
   "mimetype": "text/x-python",
   "name": "python",
   "nbconvert_exporter": "python",
   "pygments_lexer": "ipython3",
   "version": "3.9.18"
  }
 },
 "nbformat": 4,
 "nbformat_minor": 2
}
